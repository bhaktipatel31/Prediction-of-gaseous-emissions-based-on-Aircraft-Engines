{
 "cells": [
  {
   "attachments": {},
   "cell_type": "markdown",
   "metadata": {},
   "source": [
    "Missing Values replaced With Median"
   ]
  },
  {
   "cell_type": "code",
   "execution_count": 2,
   "metadata": {},
   "outputs": [
    {
     "data": {
      "text/html": [
       "<div>\n",
       "<style scoped>\n",
       "    .dataframe tbody tr th:only-of-type {\n",
       "        vertical-align: middle;\n",
       "    }\n",
       "\n",
       "    .dataframe tbody tr th {\n",
       "        vertical-align: top;\n",
       "    }\n",
       "\n",
       "    .dataframe thead th {\n",
       "        text-align: right;\n",
       "    }\n",
       "</style>\n",
       "<table border=\"1\" class=\"dataframe\">\n",
       "  <thead>\n",
       "    <tr style=\"text-align: right;\">\n",
       "      <th></th>\n",
       "      <th>Unnamed: 0</th>\n",
       "      <th>UID No</th>\n",
       "      <th>GSDB No</th>\n",
       "      <th>Manufacturer</th>\n",
       "      <th>Engine Identification</th>\n",
       "      <th>Combustor Description</th>\n",
       "      <th>Eng Type</th>\n",
       "      <th>B/P Ratio</th>\n",
       "      <th>Pressure Ratio</th>\n",
       "      <th>Rated Thrust (kN)</th>\n",
       "      <th>...</th>\n",
       "      <th>Final Test Date</th>\n",
       "      <th>Compliance with fuel venting requirements</th>\n",
       "      <th>Remark 1</th>\n",
       "      <th>Remark 2</th>\n",
       "      <th>Remark 3</th>\n",
       "      <th>Remark 4</th>\n",
       "      <th>Remark 5</th>\n",
       "      <th>Remark 6</th>\n",
       "      <th>Remark 7</th>\n",
       "      <th>Remark 8</th>\n",
       "    </tr>\n",
       "  </thead>\n",
       "  <tbody>\n",
       "    <tr>\n",
       "      <th>0</th>\n",
       "      <td>0</td>\n",
       "      <td>1AS001</td>\n",
       "      <td>1</td>\n",
       "      <td>Allied Signal</td>\n",
       "      <td>TFE731-2-2B</td>\n",
       "      <td>NaN</td>\n",
       "      <td>TF</td>\n",
       "      <td>2.64</td>\n",
       "      <td>13.90</td>\n",
       "      <td>15.60</td>\n",
       "      <td>...</td>\n",
       "      <td>1976-04-01</td>\n",
       "      <td>NaN</td>\n",
       "      <td>Not required to meet GASEOUS regulations</td>\n",
       "      <td>NaN</td>\n",
       "      <td>NaN</td>\n",
       "      <td>NaN</td>\n",
       "      <td>NaN</td>\n",
       "      <td>NaN</td>\n",
       "      <td>NaN</td>\n",
       "      <td>NaN</td>\n",
       "    </tr>\n",
       "    <tr>\n",
       "      <th>1</th>\n",
       "      <td>1</td>\n",
       "      <td>1AS002</td>\n",
       "      <td>1</td>\n",
       "      <td>Allied Signal</td>\n",
       "      <td>TFE731-3</td>\n",
       "      <td>NaN</td>\n",
       "      <td>TF</td>\n",
       "      <td>2.64</td>\n",
       "      <td>14.30</td>\n",
       "      <td>16.50</td>\n",
       "      <td>...</td>\n",
       "      <td>1976-08-01</td>\n",
       "      <td>NaN</td>\n",
       "      <td>Not required to meet GASEOUS regulations</td>\n",
       "      <td>NaN</td>\n",
       "      <td>NaN</td>\n",
       "      <td>NaN</td>\n",
       "      <td>NaN</td>\n",
       "      <td>NaN</td>\n",
       "      <td>NaN</td>\n",
       "      <td>NaN</td>\n",
       "    </tr>\n",
       "    <tr>\n",
       "      <th>2</th>\n",
       "      <td>2</td>\n",
       "      <td>4AL003</td>\n",
       "      <td>4</td>\n",
       "      <td>Rolls-Royce Corporation</td>\n",
       "      <td>AE3007A</td>\n",
       "      <td>NaN</td>\n",
       "      <td>MTF</td>\n",
       "      <td>5.23</td>\n",
       "      <td>18.08</td>\n",
       "      <td>33.73</td>\n",
       "      <td>...</td>\n",
       "      <td>1995-04-19</td>\n",
       "      <td>NaN</td>\n",
       "      <td>NaN</td>\n",
       "      <td>NaN</td>\n",
       "      <td>NaN</td>\n",
       "      <td>NaN</td>\n",
       "      <td>NaN</td>\n",
       "      <td>NaN</td>\n",
       "      <td>NaN</td>\n",
       "      <td>NaN</td>\n",
       "    </tr>\n",
       "    <tr>\n",
       "      <th>3</th>\n",
       "      <td>3</td>\n",
       "      <td>6AL004</td>\n",
       "      <td>6</td>\n",
       "      <td>Rolls-Royce Corporation</td>\n",
       "      <td>AE3007C1</td>\n",
       "      <td>NaN</td>\n",
       "      <td>MTF</td>\n",
       "      <td>5.10</td>\n",
       "      <td>16.60</td>\n",
       "      <td>31.50</td>\n",
       "      <td>...</td>\n",
       "      <td>1995-04-19</td>\n",
       "      <td>NaN</td>\n",
       "      <td>Results based on Rolls Royce report EDR 15171B</td>\n",
       "      <td>NaN</td>\n",
       "      <td>NaN</td>\n",
       "      <td>NaN</td>\n",
       "      <td>NaN</td>\n",
       "      <td>NaN</td>\n",
       "      <td>NaN</td>\n",
       "      <td>NaN</td>\n",
       "    </tr>\n",
       "    <tr>\n",
       "      <th>4</th>\n",
       "      <td>4</td>\n",
       "      <td>6AL005</td>\n",
       "      <td>6</td>\n",
       "      <td>Rolls-Royce Corporation</td>\n",
       "      <td>AE3007A1</td>\n",
       "      <td>Type 1</td>\n",
       "      <td>MTF</td>\n",
       "      <td>4.77</td>\n",
       "      <td>17.97</td>\n",
       "      <td>34.91</td>\n",
       "      <td>...</td>\n",
       "      <td>1995-04-19</td>\n",
       "      <td>NaN</td>\n",
       "      <td>For effectivity see Rolls-Royce Notice to Oper...</td>\n",
       "      <td>Results are based on Rolls-Royce report EDR 15...</td>\n",
       "      <td>AE3007A1 data in this report replace data repo...</td>\n",
       "      <td>NaN</td>\n",
       "      <td>NaN</td>\n",
       "      <td>NaN</td>\n",
       "      <td>NaN</td>\n",
       "      <td>NaN</td>\n",
       "    </tr>\n",
       "  </tbody>\n",
       "</table>\n",
       "<p>5 rows × 106 columns</p>\n",
       "</div>"
      ],
      "text/plain": [
       "   Unnamed: 0  UID No  GSDB No             Manufacturer Engine Identification  \\\n",
       "0           0  1AS001        1            Allied Signal           TFE731-2-2B   \n",
       "1           1  1AS002        1            Allied Signal              TFE731-3   \n",
       "2           2  4AL003        4  Rolls-Royce Corporation               AE3007A   \n",
       "3           3  6AL004        6  Rolls-Royce Corporation              AE3007C1   \n",
       "4           4  6AL005        6  Rolls-Royce Corporation              AE3007A1   \n",
       "\n",
       "  Combustor Description Eng Type  B/P Ratio  Pressure Ratio  \\\n",
       "0                   NaN       TF       2.64           13.90   \n",
       "1                   NaN       TF       2.64           14.30   \n",
       "2                   NaN      MTF       5.23           18.08   \n",
       "3                   NaN      MTF       5.10           16.60   \n",
       "4                Type 1      MTF       4.77           17.97   \n",
       "\n",
       "   Rated Thrust (kN)  ... Final Test Date  \\\n",
       "0              15.60  ...      1976-04-01   \n",
       "1              16.50  ...      1976-08-01   \n",
       "2              33.73  ...      1995-04-19   \n",
       "3              31.50  ...      1995-04-19   \n",
       "4              34.91  ...      1995-04-19   \n",
       "\n",
       "  Compliance with fuel venting requirements  \\\n",
       "0                                       NaN   \n",
       "1                                       NaN   \n",
       "2                                       NaN   \n",
       "3                                       NaN   \n",
       "4                                       NaN   \n",
       "\n",
       "                                            Remark 1  \\\n",
       "0           Not required to meet GASEOUS regulations   \n",
       "1           Not required to meet GASEOUS regulations   \n",
       "2                                                NaN   \n",
       "3     Results based on Rolls Royce report EDR 15171B   \n",
       "4  For effectivity see Rolls-Royce Notice to Oper...   \n",
       "\n",
       "                                            Remark 2  \\\n",
       "0                                                NaN   \n",
       "1                                                NaN   \n",
       "2                                                NaN   \n",
       "3                                                NaN   \n",
       "4  Results are based on Rolls-Royce report EDR 15...   \n",
       "\n",
       "                                            Remark 3 Remark 4 Remark 5  \\\n",
       "0                                                NaN      NaN      NaN   \n",
       "1                                                NaN      NaN      NaN   \n",
       "2                                                NaN      NaN      NaN   \n",
       "3                                                NaN      NaN      NaN   \n",
       "4  AE3007A1 data in this report replace data repo...      NaN      NaN   \n",
       "\n",
       "   Remark 6  Remark 7  Remark 8  \n",
       "0       NaN       NaN       NaN  \n",
       "1       NaN       NaN       NaN  \n",
       "2       NaN       NaN       NaN  \n",
       "3       NaN       NaN       NaN  \n",
       "4       NaN       NaN       NaN  \n",
       "\n",
       "[5 rows x 106 columns]"
      ]
     },
     "execution_count": 2,
     "metadata": {},
     "output_type": "execute_result"
    }
   ],
   "source": [
    "import pandas as pd \n",
    "import numpy as np\n",
    "import matplotlib.pyplot as plt \n",
    "import seaborn as sns \n",
    "import plotly.express as px\n",
    "import plotly.graph_objects as go\n",
    "from scipy.stats import iqr\n",
    "\n",
    "\n",
    "df = pd.read_csv(\"ges.csv\")\n",
    "df.head()"
   ]
  },
  {
   "cell_type": "code",
   "execution_count": 3,
   "metadata": {},
   "outputs": [
    {
     "data": {
      "text/html": [
       "<div>\n",
       "<style scoped>\n",
       "    .dataframe tbody tr th:only-of-type {\n",
       "        vertical-align: middle;\n",
       "    }\n",
       "\n",
       "    .dataframe tbody tr th {\n",
       "        vertical-align: top;\n",
       "    }\n",
       "\n",
       "    .dataframe thead th {\n",
       "        text-align: right;\n",
       "    }\n",
       "</style>\n",
       "<table border=\"1\" class=\"dataframe\">\n",
       "  <thead>\n",
       "    <tr style=\"text-align: right;\">\n",
       "      <th></th>\n",
       "      <th>Eng Type</th>\n",
       "      <th>B/P Ratio</th>\n",
       "      <th>Fuel LTO Cycle (kg)</th>\n",
       "      <th>HC LTO Total mass (g)</th>\n",
       "      <th>CO LTO Total Mass (g)</th>\n",
       "      <th>NOx LTO Total mass (g)</th>\n",
       "    </tr>\n",
       "  </thead>\n",
       "  <tbody>\n",
       "    <tr>\n",
       "      <th>810</th>\n",
       "      <td>TF</td>\n",
       "      <td>5.1</td>\n",
       "      <td>151.0</td>\n",
       "      <td>337.0</td>\n",
       "      <td>2803.0</td>\n",
       "      <td>1086.0</td>\n",
       "    </tr>\n",
       "    <tr>\n",
       "      <th>811</th>\n",
       "      <td>TF</td>\n",
       "      <td>5.0</td>\n",
       "      <td>NaN</td>\n",
       "      <td>NaN</td>\n",
       "      <td>NaN</td>\n",
       "      <td>NaN</td>\n",
       "    </tr>\n",
       "    <tr>\n",
       "      <th>812</th>\n",
       "      <td>TF</td>\n",
       "      <td>5.0</td>\n",
       "      <td>265.0</td>\n",
       "      <td>NaN</td>\n",
       "      <td>NaN</td>\n",
       "      <td>NaN</td>\n",
       "    </tr>\n",
       "    <tr>\n",
       "      <th>813</th>\n",
       "      <td>TF</td>\n",
       "      <td>4.9</td>\n",
       "      <td>260.0</td>\n",
       "      <td>NaN</td>\n",
       "      <td>NaN</td>\n",
       "      <td>NaN</td>\n",
       "    </tr>\n",
       "    <tr>\n",
       "      <th>814</th>\n",
       "      <td>TF</td>\n",
       "      <td>4.9</td>\n",
       "      <td>274.0</td>\n",
       "      <td>NaN</td>\n",
       "      <td>NaN</td>\n",
       "      <td>NaN</td>\n",
       "    </tr>\n",
       "  </tbody>\n",
       "</table>\n",
       "</div>"
      ],
      "text/plain": [
       "    Eng Type  B/P Ratio  Fuel LTO Cycle (kg)    HC LTO Total mass (g)  \\\n",
       "810       TF        5.1                  151.0                  337.0   \n",
       "811       TF        5.0                    NaN                    NaN   \n",
       "812       TF        5.0                  265.0                    NaN   \n",
       "813       TF        4.9                  260.0                    NaN   \n",
       "814       TF        4.9                  274.0                    NaN   \n",
       "\n",
       "     CO LTO Total Mass (g)  NOx LTO Total mass (g)  \n",
       "810                 2803.0                  1086.0  \n",
       "811                    NaN                     NaN  \n",
       "812                    NaN                     NaN  \n",
       "813                    NaN                     NaN  \n",
       "814                    NaN                     NaN  "
      ]
     },
     "execution_count": 3,
     "metadata": {},
     "output_type": "execute_result"
    }
   ],
   "source": [
    "df2 = df[['Eng Type' , 'B/P Ratio', 'Fuel LTO Cycle (kg)  ' ,'HC LTO Total mass (g)', 'CO LTO Total Mass (g)', 'NOx LTO Total mass (g)']].copy()\n",
    "df2.tail()"
   ]
  },
  {
   "cell_type": "code",
   "execution_count": 4,
   "metadata": {},
   "outputs": [
    {
     "data": {
      "text/plain": [
       "(815, 6)"
      ]
     },
     "execution_count": 4,
     "metadata": {},
     "output_type": "execute_result"
    }
   ],
   "source": [
    "df2.shape"
   ]
  },
  {
   "cell_type": "code",
   "execution_count": 5,
   "metadata": {},
   "outputs": [
    {
     "data": {
      "text/plain": [
       "Eng Type                  0\n",
       "B/P Ratio                 8\n",
       "Fuel LTO Cycle (kg)       1\n",
       "HC LTO Total mass (g)     9\n",
       "CO LTO Total Mass (g)     8\n",
       "NOx LTO Total mass (g)    9\n",
       "dtype: int64"
      ]
     },
     "execution_count": 5,
     "metadata": {},
     "output_type": "execute_result"
    }
   ],
   "source": [
    "df2.isna().sum()"
   ]
  },
  {
   "cell_type": "code",
   "execution_count": 6,
   "metadata": {},
   "outputs": [],
   "source": [
    "df2.rename(columns={\"Fuel LTO Cycle (kg)  \":\"Fuel LTO Cycle (kg)\"}, inplace=True)"
   ]
  },
  {
   "cell_type": "code",
   "execution_count": 7,
   "metadata": {},
   "outputs": [
    {
     "data": {
      "text/plain": [
       "Index(['Eng Type', 'B/P Ratio', 'Fuel LTO Cycle (kg)', 'HC LTO Total mass (g)',\n",
       "       'CO LTO Total Mass (g)', 'NOx LTO Total mass (g)'],\n",
       "      dtype='object')"
      ]
     },
     "execution_count": 7,
     "metadata": {},
     "output_type": "execute_result"
    }
   ],
   "source": [
    "df2.columns"
   ]
  },
  {
   "cell_type": "code",
   "execution_count": 8,
   "metadata": {},
   "outputs": [],
   "source": [
    "df2['B/P Ratio'].fillna(df2['B/P Ratio'].median(), inplace=True)\n",
    "df2['Fuel LTO Cycle (kg)'].fillna(df2['Fuel LTO Cycle (kg)'].median(), inplace=True)\n",
    "df2['HC LTO Total mass (g)'].fillna(df2['HC LTO Total mass (g)'].median(), inplace=True)\n",
    "df2['CO LTO Total Mass (g)'].fillna(df2['CO LTO Total Mass (g)'].median(), inplace=True)\n",
    "df2['NOx LTO Total mass (g)'].fillna(df2['NOx LTO Total mass (g)'].median(), inplace=True)\n"
   ]
  },
  {
   "cell_type": "code",
   "execution_count": 9,
   "metadata": {},
   "outputs": [
    {
     "data": {
      "image/png": "[encoded data removed]",
      "text/plain": [
       "<Figure size 1080x900 with 2 Axes>"
      ]
     },
     "metadata": {
      "needs_background": "light"
     },
     "output_type": "display_data"
    }
   ],
   "source": [
    "plt.figure(figsize=(15,12.5))\n",
    "sns.heatmap(round(df2.corr(),1),annot=True, linewidth=0.9)\n",
    "sns.color_palette(\"flare\", as_cmap=True)\n",
    "plt.show();"
   ]
  },
  {
   "cell_type": "code",
   "execution_count": 10,
   "metadata": {},
   "outputs": [
    {
     "data": {
      "text/plain": [
       "Index(['Eng Type', 'B/P Ratio', 'Fuel LTO Cycle (kg)', 'HC LTO Total mass (g)',\n",
       "       'CO LTO Total Mass (g)', 'NOx LTO Total mass (g)'],\n",
       "      dtype='object')"
      ]
     },
     "execution_count": 10,
     "metadata": {},
     "output_type": "execute_result"
    }
   ],
   "source": [
    "df2.columns"
   ]
  },
  {
   "cell_type": "code",
   "execution_count": 11,
   "metadata": {},
   "outputs": [
    {
     "data": {
      "text/plain": [
       "<AxesSubplot:>"
      ]
     },
     "execution_count": 11,
     "metadata": {},
     "output_type": "execute_result"
    },
    {
     "data": {
      "image/png": "[encoded data removed]",
      "text/plain": [
       "<Figure size 432x288 with 1 Axes>"
      ]
     },
     "metadata": {
      "needs_background": "light"
     },
     "output_type": "display_data"
    }
   ],
   "source": [
    "sns.boxplot(df2['NOx LTO Total mass (g)'])"
   ]
  },
  {
   "cell_type": "code",
   "execution_count": 12,
   "metadata": {},
   "outputs": [
    {
     "data": {
      "text/plain": [
       "Eng Type                   object\n",
       "B/P Ratio                 float64\n",
       "Fuel LTO Cycle (kg)       float64\n",
       "HC LTO Total mass (g)     float64\n",
       "CO LTO Total Mass (g)     float64\n",
       "NOx LTO Total mass (g)    float64\n",
       "dtype: object"
      ]
     },
     "execution_count": 12,
     "metadata": {},
     "output_type": "execute_result"
    }
   ],
   "source": [
    "df2.dtypes"
   ]
  },
  {
   "cell_type": "code",
   "execution_count": 13,
   "metadata": {},
   "outputs": [],
   "source": [
    "# Step1: Finding the IQR\n",
    "\n",
    "Q1 = df2['NOx LTO Total mass (g)'].quantile(0.25)\n",
    "Q3 = df2['NOx LTO Total mass (g)'].quantile(0.75)\n",
    "IQR = Q3 - Q1"
   ]
  },
  {
   "cell_type": "code",
   "execution_count": 14,
   "metadata": {},
   "outputs": [],
   "source": [
    "# Step2: Finding the upper and lower limits\n",
    "\n",
    "lower_limit = Q1 - 1.5 * IQR\n",
    "upper_limit = Q3 + 1.5 * IQR"
   ]
  },
  {
   "cell_type": "code",
   "execution_count": 15,
   "metadata": {},
   "outputs": [
    {
     "name": "stdout",
     "output_type": "stream",
     "text": [
      "Lower Limit: -12814.0\n",
      "Upper Limit: 29986.0\n"
     ]
    }
   ],
   "source": [
    "# Step3: Print the lower and upper limits\n",
    "print('Lower Limit:', lower_limit)\n",
    "print('Upper Limit:', upper_limit)"
   ]
  },
  {
   "cell_type": "code",
   "execution_count": 16,
   "metadata": {},
   "outputs": [
    {
     "data": {
      "text/html": [
       "<div>\n",
       "<style scoped>\n",
       "    .dataframe tbody tr th:only-of-type {\n",
       "        vertical-align: middle;\n",
       "    }\n",
       "\n",
       "    .dataframe tbody tr th {\n",
       "        vertical-align: top;\n",
       "    }\n",
       "\n",
       "    .dataframe thead th {\n",
       "        text-align: right;\n",
       "    }\n",
       "</style>\n",
       "<table border=\"1\" class=\"dataframe\">\n",
       "  <thead>\n",
       "    <tr style=\"text-align: right;\">\n",
       "      <th></th>\n",
       "      <th>Eng Type</th>\n",
       "      <th>B/P Ratio</th>\n",
       "      <th>Fuel LTO Cycle (kg)</th>\n",
       "      <th>HC LTO Total mass (g)</th>\n",
       "      <th>CO LTO Total Mass (g)</th>\n",
       "      <th>NOx LTO Total mass (g)</th>\n",
       "    </tr>\n",
       "  </thead>\n",
       "  <tbody>\n",
       "    <tr>\n",
       "      <th>332</th>\n",
       "      <td>TF</td>\n",
       "      <td>7.340</td>\n",
       "      <td>1479.000000</td>\n",
       "      <td>2679.000000</td>\n",
       "      <td>24212.000000</td>\n",
       "      <td>30616.000000</td>\n",
       "    </tr>\n",
       "    <tr>\n",
       "      <th>333</th>\n",
       "      <td>TF</td>\n",
       "      <td>7.170</td>\n",
       "      <td>1518.000000</td>\n",
       "      <td>2608.000000</td>\n",
       "      <td>24007.000000</td>\n",
       "      <td>33006.000000</td>\n",
       "    </tr>\n",
       "    <tr>\n",
       "      <th>334</th>\n",
       "      <td>TF</td>\n",
       "      <td>7.080</td>\n",
       "      <td>1546.000000</td>\n",
       "      <td>2559.000000</td>\n",
       "      <td>23858.000000</td>\n",
       "      <td>34888.000000</td>\n",
       "    </tr>\n",
       "    <tr>\n",
       "      <th>335</th>\n",
       "      <td>TF</td>\n",
       "      <td>7.300</td>\n",
       "      <td>1390.992000</td>\n",
       "      <td>2042.747748</td>\n",
       "      <td>19317.211476</td>\n",
       "      <td>30010.235664</td>\n",
       "    </tr>\n",
       "    <tr>\n",
       "      <th>336</th>\n",
       "      <td>TF</td>\n",
       "      <td>7.200</td>\n",
       "      <td>1426.188000</td>\n",
       "      <td>1994.098452</td>\n",
       "      <td>19142.153160</td>\n",
       "      <td>32244.929700</td>\n",
       "    </tr>\n",
       "    <tr>\n",
       "      <th>337</th>\n",
       "      <td>TF</td>\n",
       "      <td>7.100</td>\n",
       "      <td>1453.392000</td>\n",
       "      <td>1964.047008</td>\n",
       "      <td>19038.993624</td>\n",
       "      <td>34113.782760</td>\n",
       "    </tr>\n",
       "    <tr>\n",
       "      <th>338</th>\n",
       "      <td>TF</td>\n",
       "      <td>7.300</td>\n",
       "      <td>1390.992000</td>\n",
       "      <td>2042.747748</td>\n",
       "      <td>19317.211476</td>\n",
       "      <td>30010.235664</td>\n",
       "    </tr>\n",
       "    <tr>\n",
       "      <th>339</th>\n",
       "      <td>TF</td>\n",
       "      <td>7.100</td>\n",
       "      <td>1453.392000</td>\n",
       "      <td>1964.047008</td>\n",
       "      <td>19038.993624</td>\n",
       "      <td>34113.782760</td>\n",
       "    </tr>\n",
       "    <tr>\n",
       "      <th>361</th>\n",
       "      <td>TF</td>\n",
       "      <td>8.400</td>\n",
       "      <td>1231.000000</td>\n",
       "      <td>1594.000000</td>\n",
       "      <td>21891.000000</td>\n",
       "      <td>31175.000000</td>\n",
       "    </tr>\n",
       "    <tr>\n",
       "      <th>362</th>\n",
       "      <td>TF</td>\n",
       "      <td>8.330</td>\n",
       "      <td>1217.000000</td>\n",
       "      <td>212.000000</td>\n",
       "      <td>6142.000000</td>\n",
       "      <td>30172.000000</td>\n",
       "    </tr>\n",
       "    <tr>\n",
       "      <th>363</th>\n",
       "      <td>TF</td>\n",
       "      <td>8.330</td>\n",
       "      <td>1203.000000</td>\n",
       "      <td>221.000000</td>\n",
       "      <td>6156.000000</td>\n",
       "      <td>30617.000000</td>\n",
       "    </tr>\n",
       "    <tr>\n",
       "      <th>364</th>\n",
       "      <td>TF</td>\n",
       "      <td>8.330</td>\n",
       "      <td>1203.000000</td>\n",
       "      <td>221.000000</td>\n",
       "      <td>6156.000000</td>\n",
       "      <td>30617.000000</td>\n",
       "    </tr>\n",
       "    <tr>\n",
       "      <th>632</th>\n",
       "      <td>TF</td>\n",
       "      <td>6.000</td>\n",
       "      <td>1322.600000</td>\n",
       "      <td>384.400000</td>\n",
       "      <td>6592.100000</td>\n",
       "      <td>31121.800000</td>\n",
       "    </tr>\n",
       "    <tr>\n",
       "      <th>633</th>\n",
       "      <td>TF</td>\n",
       "      <td>6.100</td>\n",
       "      <td>1204.000000</td>\n",
       "      <td>992.000000</td>\n",
       "      <td>8848.000000</td>\n",
       "      <td>31629.000000</td>\n",
       "    </tr>\n",
       "    <tr>\n",
       "      <th>634</th>\n",
       "      <td>TF</td>\n",
       "      <td>5.300</td>\n",
       "      <td>1361.000000</td>\n",
       "      <td>0.000000</td>\n",
       "      <td>3543.000000</td>\n",
       "      <td>32265.000000</td>\n",
       "    </tr>\n",
       "    <tr>\n",
       "      <th>801</th>\n",
       "      <td>TF</td>\n",
       "      <td>8.059</td>\n",
       "      <td>1205.896844</td>\n",
       "      <td>4.721385</td>\n",
       "      <td>4015.656037</td>\n",
       "      <td>33539.736690</td>\n",
       "    </tr>\n",
       "    <tr>\n",
       "      <th>806</th>\n",
       "      <td>TF</td>\n",
       "      <td>8.059</td>\n",
       "      <td>1205.896844</td>\n",
       "      <td>4.721385</td>\n",
       "      <td>4015.656037</td>\n",
       "      <td>33539.736690</td>\n",
       "    </tr>\n",
       "  </tbody>\n",
       "</table>\n",
       "</div>"
      ],
      "text/plain": [
       "    Eng Type  B/P Ratio  Fuel LTO Cycle (kg)  HC LTO Total mass (g)  \\\n",
       "332       TF      7.340          1479.000000            2679.000000   \n",
       "333       TF      7.170          1518.000000            2608.000000   \n",
       "334       TF      7.080          1546.000000            2559.000000   \n",
       "335       TF      7.300          1390.992000            2042.747748   \n",
       "336       TF      7.200          1426.188000            1994.098452   \n",
       "337       TF      7.100          1453.392000            1964.047008   \n",
       "338       TF      7.300          1390.992000            2042.747748   \n",
       "339       TF      7.100          1453.392000            1964.047008   \n",
       "361       TF      8.400          1231.000000            1594.000000   \n",
       "362       TF      8.330          1217.000000             212.000000   \n",
       "363       TF      8.330          1203.000000             221.000000   \n",
       "364       TF      8.330          1203.000000             221.000000   \n",
       "632       TF      6.000          1322.600000             384.400000   \n",
       "633       TF      6.100          1204.000000             992.000000   \n",
       "634       TF      5.300          1361.000000               0.000000   \n",
       "801       TF      8.059          1205.896844               4.721385   \n",
       "806       TF      8.059          1205.896844               4.721385   \n",
       "\n",
       "     CO LTO Total Mass (g)  NOx LTO Total mass (g)  \n",
       "332           24212.000000            30616.000000  \n",
       "333           24007.000000            33006.000000  \n",
       "334           23858.000000            34888.000000  \n",
       "335           19317.211476            30010.235664  \n",
       "336           19142.153160            32244.929700  \n",
       "337           19038.993624            34113.782760  \n",
       "338           19317.211476            30010.235664  \n",
       "339           19038.993624            34113.782760  \n",
       "361           21891.000000            31175.000000  \n",
       "362            6142.000000            30172.000000  \n",
       "363            6156.000000            30617.000000  \n",
       "364            6156.000000            30617.000000  \n",
       "632            6592.100000            31121.800000  \n",
       "633            8848.000000            31629.000000  \n",
       "634            3543.000000            32265.000000  \n",
       "801            4015.656037            33539.736690  \n",
       "806            4015.656037            33539.736690  "
      ]
     },
     "execution_count": 16,
     "metadata": {},
     "output_type": "execute_result"
    }
   ],
   "source": [
    "#Step 4: find outliers \n",
    "\n",
    "outliers = df2[(df2['NOx LTO Total mass (g)'] < lower_limit) | (df2['NOx LTO Total mass (g)'] > upper_limit)]\n",
    "outliers"
   ]
  },
  {
   "cell_type": "code",
   "execution_count": 17,
   "metadata": {},
   "outputs": [
    {
     "data": {
      "text/plain": [
       "(798, 6)"
      ]
     },
     "execution_count": 17,
     "metadata": {},
     "output_type": "execute_result"
    }
   ],
   "source": [
    "# Step5: Trimming the outliers\n",
    "no_df = df2[(df2['NOx LTO Total mass (g)'] > lower_limit) & (df2['NOx LTO Total mass (g)'] < upper_limit)]\n",
    "no_df.shape"
   ]
  },
  {
   "cell_type": "code",
   "execution_count": 18,
   "metadata": {},
   "outputs": [
    {
     "data": {
      "application/vnd.plotly.v1+json": {
       "config": {
        "plotlyServerURL": "https://plot.ly"
       },
       "data": [
        {
         "alignmentgroup": "True",
         "boxpoints": "outliers",
         "hovertemplate": "NOx LTO Total mass (g)=%{x}<br>Eng Type=%{y}<extra></extra>",
         "legendgroup": "",
         "marker": {
          "color": "lime"
         },
         "name": "",
         "notched": false,
         "offsetgroup": "",
         "orientation": "h",
         "showlegend": false,
         "type": "box",
         "x": [
          630,
          845,
          1563,
          1175,
          1456,
          1607,
          1502,
          1344,
          1442,
          1592,
          1333,
          1319,
          1465,
          1245,
          1444,
          1567,
          1334,
          1817,
          1316,
          1429,
          1232,
          991,
          1501,
          1050,
          1050,
          1150,
          1175,
          1262,
          1326.3,
          1344,
          1333,
          1245,
          1334,
          1501,
          1817,
          1232,
          4338,
          5510,
          4720,
          4000,
          11648,
          8287,
          9847.1,
          7902,
          2576,
          2790,
          2784,
          2850,
          4002,
          3340,
          4583,
          3958,
          5314,
          4588,
          2565,
          3082,
          2784,
          2850,
          3082,
          2565,
          4571,
          3906,
          3906,
          3595,
          4213,
          4810,
          3210,
          4506,
          5110,
          3851,
          4367,
          7783,
          5314,
          5024,
          5749,
          7112,
          8485,
          5756,
          5844,
          6268,
          7723,
          6420,
          6875,
          8360,
          5861,
          3783,
          3847,
          4511,
          5641,
          3047,
          3732,
          3158,
          3020,
          3363,
          4232,
          4511,
          5641,
          2950,
          3358,
          2754,
          3377,
          3875,
          7077,
          6240,
          7770,
          6858,
          8702,
          7641,
          5749,
          6268,
          6875,
          4511,
          3047,
          3363,
          4511,
          2950,
          3377,
          3472,
          2729,
          3829,
          2802,
          2987,
          2987,
          4560,
          3091,
          3540,
          3538,
          3538,
          5149,
          3534,
          3995,
          3996,
          3996,
          6149,
          6149,
          4233,
          4763,
          4923,
          4762,
          4762,
          4762,
          4762,
          4762,
          6719,
          4648,
          5232,
          5231,
          5231,
          5231,
          5231,
          5231,
          5231,
          2987,
          3538,
          3538,
          3996,
          3996,
          4762,
          4762,
          4762,
          4762,
          4762,
          5231,
          5231,
          5231,
          5231,
          5231,
          5231,
          2852,
          6024,
          2341,
          3535,
          7795,
          3535,
          5396,
          5396,
          2341,
          3535,
          3535,
          5396,
          5396,
          7795,
          7534,
          7534,
          6220,
          5174,
          4053,
          4573,
          5417,
          6326,
          6326,
          6326,
          7837,
          7837,
          4053,
          4573,
          5417,
          6326,
          6326,
          7837,
          6326,
          7837,
          17713,
          2696,
          2696,
          3070,
          2742,
          2742,
          2836,
          2757,
          2871,
          3328,
          3214,
          3341,
          2836,
          2757,
          2871,
          3328,
          3214,
          3341,
          3328,
          3214,
          3341,
          3214,
          1137,
          1137,
          1078,
          1078,
          2120,
          1956,
          2205,
          2205,
          2287,
          2419,
          2565,
          2010,
          1939,
          1940,
          2188,
          2222,
          2223,
          2419,
          2419,
          2565,
          2223,
          2419,
          2205,
          2287,
          2010,
          2419,
          2565,
          1940,
          2188,
          2223,
          2419,
          2565,
          2223,
          2419,
          9105,
          10819,
          9105,
          10286,
          13436,
          11116,
          11884,
          14247,
          11884,
          12482,
          13436,
          11116,
          11116,
          11884,
          11884,
          14247,
          11884,
          12482,
          11611,
          12549,
          11611,
          12549,
          11066,
          11066,
          11878,
          11878,
          12382,
          11514,
          9729,
          9728,
          9339,
          13090,
          13074,
          12074,
          12353,
          12735,
          12640,
          12796,
          11797,
          11491,
          10400,
          10719,
          10718,
          10528,
          11113,
          8796,
          9169,
          8361,
          9192,
          11211,
          11226,
          10635,
          11137,
          13142,
          12362,
          12640,
          12134,
          12420,
          12134,
          12420,
          12213,
          12400,
          12714,
          12724,
          15429,
          13232,
          16203,
          13796,
          19254,
          18055,
          15027,
          11113,
          13142,
          12420,
          21342,
          19680,
          19393,
          19394,
          21338,
          18984,
          21308,
          19995,
          19743,
          21592,
          19394,
          25703,
          24478,
          24177,
          24985,
          23351,
          29448,
          28459,
          27923,
          29136,
          26639,
          28540,
          5217,
          6279,
          8576,
          9759,
          11457,
          10978,
          5556,
          6673,
          9049,
          10244,
          11953,
          11953,
          11953,
          15268,
          16093,
          6374,
          7426,
          9747,
          10951,
          12629,
          12629,
          12629,
          15707,
          16439,
          17251,
          17251,
          10978,
          12509,
          6374,
          7426,
          9747,
          10951,
          12629,
          12629,
          12629,
          15707,
          16439,
          17251,
          17251,
          12509,
          6374,
          7426,
          9747,
          10951,
          12629,
          12629,
          12629,
          15707,
          16439,
          17251,
          17251,
          12509,
          5371.488399991444,
          1751,
          6004.5,
          1388,
          6004.5,
          6004.5,
          1503,
          1263,
          1400,
          1552,
          1570,
          1503,
          1490,
          1570,
          1263,
          1400,
          1552,
          7716,
          4720,
          4563,
          5278,
          5039,
          5382,
          5382,
          5102,
          5102,
          5102,
          5382,
          5382,
          6686,
          7732,
          7414,
          8646,
          8377,
          7521,
          4563,
          5039,
          5102,
          5102,
          5102,
          7414,
          8377,
          7521,
          4776,
          6004.5,
          5440,
          6106,
          4633,
          2695,
          2947,
          2695,
          2947,
          263,
          409,
          481,
          454,
          2740,
          2909,
          6004.5,
          3740,
          3989,
          4144,
          3648,
          4283,
          4559,
          3935,
          5039,
          5623,
          5075,
          4582,
          5985,
          4582,
          4216,
          6106,
          4604,
          3078,
          3281,
          3281,
          3370,
          3488,
          12291,
          12291,
          15885,
          12381,
          11892,
          11892,
          12381,
          12291,
          12291,
          14424,
          13703,
          15885,
          12381,
          13067,
          14527,
          13117,
          14253,
          15683,
          3168,
          3422,
          3168,
          3422,
          3060.8269155350454,
          3283.74485383182,
          3244,
          3244,
          3969,
          4864,
          4864,
          2626,
          2626,
          2626,
          2626,
          2626,
          2626,
          3096,
          3096,
          3096,
          3096,
          3096,
          3096,
          3571,
          3571,
          4736,
          4736,
          4736,
          4736,
          4736,
          4736,
          2912.20898491052,
          2912.20898491052,
          2912.20898491052,
          3437.887563305705,
          3437.887563305705,
          3437.887563305705,
          3975.981759011481,
          5284.267476309837,
          5284.267476309837,
          5284.267476309837,
          2244.2,
          2244.2,
          2891.3,
          2891.3,
          3545.341814575432,
          3545.341814575432,
          3545.341814575432,
          4078.483924664704,
          4078.483924664704,
          4078.483924664704,
          3988.924531491015,
          3988.924531491015,
          3988.924531491015,
          4601.172428318275,
          4601.172428318275,
          4601.172428318275,
          4125,
          4125,
          3250,
          2739,
          3903,
          3903,
          3903,
          3903,
          3139,
          3139,
          3139,
          3139,
          2656,
          2656,
          2746,
          2746,
          3199,
          3199,
          3599,
          3599,
          3599,
          3599,
          3599,
          3599,
          8107,
          8120,
          10025,
          9989,
          1497,
          1497,
          1221,
          1221,
          1221,
          1045,
          1193,
          1155,
          1393,
          1393,
          1393,
          1300,
          1300,
          1414,
          1414,
          1359,
          1359,
          1359,
          13043,
          11987,
          14097,
          18078,
          20269.1,
          19971,
          19299,
          21799.9,
          21528,
          23229,
          23229,
          26497.6,
          26662,
          10741,
          10381,
          13043,
          11987,
          12928,
          17232,
          12150,
          12895,
          19704,
          13936,
          14812,
          19704,
          13936,
          14812,
          13332.8,
          14555,
          15526,
          13043,
          14097,
          9681,
          10449,
          12246,
          13305,
          10297,
          14505,
          15470,
          15864,
          3228,
          4170,
          1001,
          10142,
          10545,
          16270,
          16935,
          16401,
          20514,
          20124,
          21075,
          21075,
          12513,
          24501,
          13995,
          9277,
          13633,
          13633,
          11714,
          7492,
          14791,
          8927,
          2160,
          3513,
          3701,
          3513,
          2354,
          2880,
          2562,
          2500,
          2591,
          2760,
          2990,
          2814,
          2814,
          2875,
          14444,
          16113,
          16167,
          18672,
          15658,
          21462,
          17784,
          15414,
          17668,
          15414,
          17668,
          17575,
          18736,
          22687,
          26405,
          28029,
          16555,
          17327,
          16826,
          18591,
          17699,
          17699,
          16826,
          17699,
          17699,
          17350,
          20942,
          20942,
          13462,
          19198,
          14312,
          20735,
          23531,
          23531,
          14299,
          19058,
          12196,
          20735,
          20735,
          17288,
          14247,
          19109,
          12165,
          20854,
          20854,
          17262,
          17511,
          20943,
          20943,
          19303,
          14562,
          23599,
          23599,
          20943,
          25036,
          25036,
          20943,
          23599,
          26196,
          21739,
          21739,
          17511,
          20943,
          20943,
          19303,
          14562,
          23599,
          23599,
          20943,
          25036,
          25036,
          20943,
          23599,
          26196,
          21739,
          21739,
          18221.251103874718,
          22034.029251064916,
          22034.029251064916,
          20196.110859586377,
          15026.4710028992,
          25064.201574504357,
          25064.201574504357,
          22034.029251064916,
          26724.58047524782,
          26724.58047524782,
          22034.029251064916,
          25064.201574504357,
          28077.43855689125,
          17401.326205217967,
          18697.50194800873,
          20784.363382215306,
          20784.363382215306,
          20784.363382215306,
          14800,
          17154,
          17154,
          20243,
          14512,
          16834,
          16834,
          19903,
          28456,
          14512,
          16834,
          16834,
          19903,
          1173,
          915,
          1017,
          1086,
          6004.5,
          6004.5,
          6004.5,
          6004.5
         ],
         "x0": " ",
         "xaxis": "x",
         "y": [
          "TF",
          "TF",
          "MTF",
          "MTF",
          "MTF",
          "MTF",
          "MTF",
          "MTF",
          "MTF",
          "MTF",
          "MTF",
          "MTF",
          "MTF",
          "MTF",
          "MTF",
          "MTF",
          "MTF",
          "MTF",
          "MTF",
          "MTF",
          "MTF",
          "MTF",
          "MTF",
          "MTF",
          "MTF",
          "MTF",
          "MTF",
          "MTF",
          "MTF",
          "MTF",
          "MTF",
          "MTF",
          "MTF",
          "MTF",
          "MTF",
          "MTF",
          "MTF",
          "MTF",
          "MTF",
          "MTF",
          "MTF",
          "MTF",
          "MTF",
          "MTF",
          "MTF",
          "MTF",
          "MTF",
          "MTF",
          "MTF",
          "MTF",
          "MTF",
          "MTF",
          "MTF",
          "MTF",
          "MTF",
          "MTF",
          "MTF",
          "MTF",
          "MTF",
          "MTF",
          "TF",
          "TF",
          "TF",
          "TF",
          "TF",
          "TF",
          "TF",
          "TF",
          "TF",
          "TF",
          "TF",
          "TF",
          "TF",
          "TF",
          "TF",
          "TF",
          "TF",
          "TF",
          "TF",
          "TF",
          "TF",
          "TF",
          "TF",
          "TF",
          "TF",
          "TF",
          "TF",
          "TF",
          "TF",
          "TF",
          "TF",
          "TF",
          "TF",
          "TF",
          "TF",
          "TF",
          "TF",
          "TF",
          "TF",
          "TF",
          "TF",
          "TF",
          "MTF",
          "MTF",
          "MTF",
          "MTF",
          "MTF",
          "MTF",
          "TF",
          "TF",
          "TF",
          "TF",
          "TF",
          "TF",
          "TF",
          "TF",
          "TF",
          "TF",
          "TF",
          "TF",
          "TF",
          "TF",
          "TF",
          "TF",
          "TF",
          "TF",
          "TF",
          "TF",
          "TF",
          "TF",
          "TF",
          "TF",
          "TF",
          "TF",
          "TF",
          "TF",
          "TF",
          "TF",
          "TF",
          "TF",
          "TF",
          "TF",
          "TF",
          "TF",
          "TF",
          "TF",
          "TF",
          "TF",
          "TF",
          "TF",
          "TF",
          "TF",
          "TF",
          "TF",
          "TF",
          "TF",
          "TF",
          "TF",
          "TF",
          "TF",
          "TF",
          "TF",
          "TF",
          "TF",
          "TF",
          "TF",
          "TF",
          "TF",
          "TF",
          "TF",
          "TF",
          "TF",
          "TF",
          "TF",
          "TF",
          "TF",
          "TF",
          "TF",
          "TF",
          "TF",
          "TF",
          "TF",
          "TF",
          "TF",
          "TF",
          "TF",
          "TF",
          "TF",
          "TF",
          "TF",
          "TF",
          "TF",
          "TF",
          "TF",
          "TF",
          "TF",
          "TF",
          "TF",
          "TF",
          "TF",
          "TF",
          "TF",
          "TF",
          "TF",
          "TF",
          "TF",
          "TF",
          "TF",
          "TF",
          "TF",
          "TF",
          "TF",
          "TF",
          "TF",
          "TF",
          "TF",
          "TF",
          "TF",
          "TF",
          "TF",
          "TF",
          "TF",
          "TF",
          "TF",
          "TF",
          "TF",
          "TF",
          "TF",
          "TF",
          "TF",
          "TF",
          "TF",
          "TF",
          "TF",
          "TF",
          "TF",
          "TF",
          "TF",
          "TF",
          "TF",
          "TF",
          "TF",
          "TF",
          "TF",
          "TF",
          "TF",
          "TF",
          "TF",
          "TF",
          "TF",
          "TF",
          "TF",
          "TF",
          "TF",
          "TF",
          "TF",
          "TF",
          "TF",
          "TF",
          "TF",
          "TF",
          "TF",
          "TF",
          "TF",
          "TF",
          "TF",
          "TF",
          "TF",
          "TF",
          "TF",
          "TF",
          "TF",
          "TF",
          "TF",
          "TF",
          "TF",
          "TF",
          "TF",
          "TF",
          "TF",
          "TF",
          "TF",
          "TF",
          "TF",
          "TF",
          "TF",
          "TF",
          "TF",
          "TF",
          "TF",
          "TF",
          "TF",
          "TF",
          "TF",
          "TF",
          "TF",
          "TF",
          "TF",
          "TF",
          "TF",
          "TF",
          "TF",
          "TF",
          "TF",
          "TF",
          "TF",
          "TF",
          "TF",
          "TF",
          "TF",
          "TF",
          "TF",
          "TF",
          "TF",
          "TF",
          "TF",
          "TF",
          "TF",
          "TF",
          "TF",
          "TF",
          "TF",
          "TF",
          "TF",
          "TF",
          "TF",
          "TF",
          "TF",
          "TF",
          "TF",
          "TF",
          "TF",
          "TF",
          "TF",
          "TF",
          "TF",
          "TF",
          "TF",
          "TF",
          "TF",
          "TF",
          "TF",
          "TF",
          "TF",
          "TF",
          "TF",
          "TF",
          "TF",
          "TF",
          "TF",
          "TF",
          "TF",
          "TF",
          "TF",
          "TF",
          "TF",
          "TF",
          "TF",
          "TF",
          "TF",
          "TF",
          "TF",
          "TF",
          "TF",
          "TF",
          "TF",
          "TF",
          "TF",
          "TF",
          "TF",
          "TF",
          "TF",
          "TF",
          "TF",
          "TF",
          "TF",
          "TF",
          "TF",
          "TF",
          "TF",
          "TF",
          "TF",
          "TF",
          "TF",
          "TF",
          "TF",
          "TF",
          "TF",
          "TF",
          "TF",
          "TF",
          "TF",
          "TF",
          "TF",
          "TF",
          "TF",
          "TF",
          "TF",
          "TF",
          "TF",
          "TF",
          "TF",
          "TF",
          "TF",
          "TF",
          "TF",
          "MTF",
          "TF",
          "MTF",
          "MTF",
          "MTF",
          "MTF",
          "MTF",
          "MTF",
          "MTF",
          "MTF",
          "MTF",
          "MTF",
          "MTF",
          "MTF",
          "MTF",
          "MTF",
          "MTF",
          "MTF",
          "MTF",
          "MTF",
          "MTF",
          "MTF",
          "MTF",
          "MTF",
          "MTF",
          "MTF",
          "MTF",
          "MTF",
          "MTF",
          "MTF",
          "MTF",
          "MTF",
          "MTF",
          "MTF",
          "MTF",
          "MTF",
          "MTF",
          "MTF",
          "MTF",
          "MTF",
          "MTF",
          "MTF",
          "MTF",
          "MTF",
          "MTF",
          "MTF",
          "MTF",
          "MTF",
          "MTF",
          "MTF",
          "MTF",
          "MTF",
          "TF",
          "TF",
          "TF",
          "TF",
          "TF",
          "TF",
          "TF",
          "MTF",
          "MTF",
          "MTF",
          "MTF",
          "MTF",
          "MTF",
          "MTF",
          "MTF",
          "MTF",
          "MTF",
          "MTF",
          "MTF",
          "MTF",
          "MTF",
          "MTF",
          "MTF",
          "MTF",
          "MTF",
          "MTF",
          "MTF",
          "MTF",
          "TF",
          "TF",
          "TF",
          "TF",
          "TF",
          "TF",
          "TF",
          "TF",
          "TF",
          "TF",
          "TF",
          "TF",
          "TF",
          "TF",
          "TF",
          "TF",
          "TF",
          "TF",
          "TF",
          "TF",
          "TF",
          "TF",
          "MTF",
          "MTF",
          "TF",
          "TF",
          "TF",
          "TF",
          "TF",
          "TF",
          "TF",
          "TF",
          "TF",
          "TF",
          "TF",
          "TF",
          "TF",
          "TF",
          "TF",
          "TF",
          "TF",
          "TF",
          "TF",
          "TF",
          "TF",
          "TF",
          "TF",
          "TF",
          "TF",
          "TF",
          "TF",
          "TF",
          "TF",
          "TF",
          "TF",
          "TF",
          "TF",
          "TF",
          "TF",
          "TF",
          "TF",
          "TF",
          "TF",
          "TF",
          "TF",
          "TF",
          "TF",
          "TF",
          "TF",
          "TF",
          "TF",
          "TF",
          "TF",
          "TF",
          "TF",
          "TF",
          "TF",
          "TF",
          "TF",
          "TF",
          "TF",
          "TF",
          "TF",
          "TF",
          "TF",
          "TF",
          "TF",
          "TF",
          "TF",
          "TF",
          "TF",
          "TF",
          "TF",
          "TF",
          "TF",
          "TF",
          "TF",
          "TF",
          "TF",
          "TF",
          "TF",
          "TF",
          "TF",
          "MTF",
          "MTF",
          "MTF",
          "MTF",
          "MTF",
          "TF",
          "MTF",
          "MTF",
          "MTF",
          "MTF",
          "MTF",
          "MTF",
          "MTF",
          "MTF",
          "MTF",
          "MTF",
          "MTF",
          "MTF",
          "TF",
          "TF",
          "TF",
          "TF",
          "TF",
          "TF",
          "TF",
          "TF",
          "TF",
          "TF",
          "TF",
          "TF",
          "TF",
          "TF",
          "TF",
          "TF",
          "TF",
          "TF",
          "TF",
          "TF",
          "TF",
          "TF",
          "TF",
          "TF",
          "TF",
          "TF",
          "TF",
          "TF",
          "TF",
          "TF",
          "TF",
          "TF",
          "TF",
          "TF",
          "TF",
          "TF",
          "TF",
          "TF",
          "TF",
          "TF",
          "MTF",
          "MTF",
          "TF",
          "TF",
          "TF",
          "TF",
          "TF",
          "TF",
          "TF",
          "TF",
          "MTF",
          "MTF",
          "MTF",
          "MTF",
          "MTF",
          "TF",
          "MTF",
          "MTF",
          "MTF",
          "MTF",
          "MTF",
          "MTF",
          "MTF",
          "MTF",
          "MTF",
          "MTF",
          "MTF",
          "MTF",
          "MTF",
          "MTF",
          "MTF",
          "MTF",
          "MTF",
          "MTF",
          "MTF",
          "MTF",
          "TF",
          "TF",
          "TF",
          "MTF",
          "MTF",
          "MTF",
          "MTF",
          "MTF",
          "MTF",
          "MTF",
          "MTF",
          "TF",
          "TF",
          "TF",
          "TF",
          "TF",
          "TF",
          "TF",
          "TF",
          "TF",
          "TF",
          "TF",
          "TF",
          "TF",
          "TF",
          "TF",
          "TF",
          "TF",
          "TF",
          "TF",
          "TF",
          "TF",
          "TF",
          "TF",
          "TF",
          "TF",
          "TF",
          "TF",
          "TF",
          "TF",
          "TF",
          "TF",
          "TF",
          "TF",
          "TF",
          "TF",
          "TF",
          "TF",
          "TF",
          "TF",
          "TF",
          "TF",
          "TF",
          "TF",
          "TF",
          "TF",
          "TF",
          "TF",
          "TF",
          "TF",
          "TF",
          "TF",
          "TF",
          "TF",
          "TF",
          "TF",
          "TF",
          "TF",
          "TF",
          "TF",
          "TF",
          "TF",
          "TF",
          "TF",
          "TF",
          "TF",
          "TF",
          "TF",
          "TF",
          "TF",
          "TF",
          "TF",
          "TF",
          "TF",
          "TF",
          "TF",
          "TF",
          "TF",
          "TF",
          "TF",
          "TF",
          "TF",
          "TF",
          "TF",
          "TF",
          "TF",
          "TF",
          "TF",
          "TF",
          "TF",
          "TF",
          "TF",
          "TF",
          "TF",
          "TF",
          "TF",
          "TF",
          "TF",
          "TF",
          "TF",
          "TF",
          "TF",
          "TF",
          "TF",
          "TF"
         ],
         "y0": " ",
         "yaxis": "y"
        }
       ],
       "layout": {
        "boxmode": "group",
        "legend": {
         "tracegroupgap": 0
        },
        "margin": {
         "t": 60
        },
        "template": {
         "data": {
          "bar": [
           {
            "error_x": {
             "color": "#2a3f5f"
            },
            "error_y": {
             "color": "#2a3f5f"
            },
            "marker": {
             "line": {
              "color": "#E5ECF6",
              "width": 0.5
             },
             "pattern": {
              "fillmode": "overlay",
              "size": 10,
              "solidity": 0.2
             }
            },
            "type": "bar"
           }
          ],
          "barpolar": [
           {
            "marker": {
             "line": {
              "color": "#E5ECF6",
              "width": 0.5
             },
             "pattern": {
              "fillmode": "overlay",
              "size": 10,
              "solidity": 0.2
             }
            },
            "type": "barpolar"
           }
          ],
          "carpet": [
           {
            "aaxis": {
             "endlinecolor": "#2a3f5f",
             "gridcolor": "white",
             "linecolor": "white",
             "minorgridcolor": "white",
             "startlinecolor": "#2a3f5f"
            },
            "baxis": {
             "endlinecolor": "#2a3f5f",
             "gridcolor": "white",
             "linecolor": "white",
             "minorgridcolor": "white",
             "startlinecolor": "#2a3f5f"
            },
            "type": "carpet"
           }
          ],
          "choropleth": [
           {
            "colorbar": {
             "outlinewidth": 0,
             "ticks": ""
            },
            "type": "choropleth"
           }
          ],
          "contour": [
           {
            "colorbar": {
             "outlinewidth": 0,
             "ticks": ""
            },
            "colorscale": [
             [
              0,
              "#0d0887"
             ],
             [
              0.1111111111111111,
              "#46039f"
             ],
             [
              0.2222222222222222,
              "#7201a8"
             ],
             [
              0.3333333333333333,
              "#9c179e"
             ],
             [
              0.4444444444444444,
              "#bd3786"
             ],
             [
              0.5555555555555556,
              "#d8576b"
             ],
             [
              0.6666666666666666,
              "#ed7953"
             ],
             [
              0.7777777777777778,
              "#fb9f3a"
             ],
             [
              0.8888888888888888,
              "#fdca26"
             ],
             [
              1,
              "#f0f921"
             ]
            ],
            "type": "contour"
           }
          ],
          "contourcarpet": [
           {
            "colorbar": {
             "outlinewidth": 0,
             "ticks": ""
            },
            "type": "contourcarpet"
           }
          ],
          "heatmap": [
           {
            "colorbar": {
             "outlinewidth": 0,
             "ticks": ""
            },
            "colorscale": [
             [
              0,
              "#0d0887"
             ],
             [
              0.1111111111111111,
              "#46039f"
             ],
             [
              0.2222222222222222,
              "#7201a8"
             ],
             [
              0.3333333333333333,
              "#9c179e"
             ],
             [
              0.4444444444444444,
              "#bd3786"
             ],
             [
              0.5555555555555556,
              "#d8576b"
             ],
             [
              0.6666666666666666,
              "#ed7953"
             ],
             [
              0.7777777777777778,
              "#fb9f3a"
             ],
             [
              0.8888888888888888,
              "#fdca26"
             ],
             [
              1,
              "#f0f921"
             ]
            ],
            "type": "heatmap"
           }
          ],
          "heatmapgl": [
           {
            "colorbar": {
             "outlinewidth": 0,
             "ticks": ""
            },
            "colorscale": [
             [
              0,
              "#0d0887"
             ],
             [
              0.1111111111111111,
              "#46039f"
             ],
             [
              0.2222222222222222,
              "#7201a8"
             ],
             [
              0.3333333333333333,
              "#9c179e"
             ],
             [
              0.4444444444444444,
              "#bd3786"
             ],
             [
              0.5555555555555556,
              "#d8576b"
             ],
             [
              0.6666666666666666,
              "#ed7953"
             ],
             [
              0.7777777777777778,
              "#fb9f3a"
             ],
             [
              0.8888888888888888,
              "#fdca26"
             ],
             [
              1,
              "#f0f921"
             ]
            ],
            "type": "heatmapgl"
           }
          ],
          "histogram": [
           {
            "marker": {
             "pattern": {
              "fillmode": "overlay",
              "size": 10,
              "solidity": 0.2
             }
            },
            "type": "histogram"
           }
          ],
          "histogram2d": [
           {
            "colorbar": {
             "outlinewidth": 0,
             "ticks": ""
            },
            "colorscale": [
             [
              0,
              "#0d0887"
             ],
             [
              0.1111111111111111,
              "#46039f"
             ],
             [
              0.2222222222222222,
              "#7201a8"
             ],
             [
              0.3333333333333333,
              "#9c179e"
             ],
             [
              0.4444444444444444,
              "#bd3786"
             ],
             [
              0.5555555555555556,
              "#d8576b"
             ],
             [
              0.6666666666666666,
              "#ed7953"
             ],
             [
              0.7777777777777778,
              "#fb9f3a"
             ],
             [
              0.8888888888888888,
              "#fdca26"
             ],
             [
              1,
              "#f0f921"
             ]
            ],
            "type": "histogram2d"
           }
          ],
          "histogram2dcontour": [
           {
            "colorbar": {
             "outlinewidth": 0,
             "ticks": ""
            },
            "colorscale": [
             [
              0,
              "#0d0887"
             ],
             [
              0.1111111111111111,
              "#46039f"
             ],
             [
              0.2222222222222222,
              "#7201a8"
             ],
             [
              0.3333333333333333,
              "#9c179e"
             ],
             [
              0.4444444444444444,
              "#bd3786"
             ],
             [
              0.5555555555555556,
              "#d8576b"
             ],
             [
              0.6666666666666666,
              "#ed7953"
             ],
             [
              0.7777777777777778,
              "#fb9f3a"
             ],
             [
              0.8888888888888888,
              "#fdca26"
             ],
             [
              1,
              "#f0f921"
             ]
            ],
            "type": "histogram2dcontour"
           }
          ],
          "mesh3d": [
           {
            "colorbar": {
             "outlinewidth": 0,
             "ticks": ""
            },
            "type": "mesh3d"
           }
          ],
          "parcoords": [
           {
            "line": {
             "colorbar": {
              "outlinewidth": 0,
              "ticks": ""
             }
            },
            "type": "parcoords"
           }
          ],
          "pie": [
           {
            "automargin": true,
            "type": "pie"
           }
          ],
          "scatter": [
           {
            "fillpattern": {
             "fillmode": "overlay",
             "size": 10,
             "solidity": 0.2
            },
            "type": "scatter"
           }
          ],
          "scatter3d": [
           {
            "line": {
             "colorbar": {
              "outlinewidth": 0,
              "ticks": ""
             }
            },
            "marker": {
             "colorbar": {
              "outlinewidth": 0,
              "ticks": ""
             }
            },
            "type": "scatter3d"
           }
          ],
          "scattercarpet": [
           {
            "marker": {
             "colorbar": {
              "outlinewidth": 0,
              "ticks": ""
             }
            },
            "type": "scattercarpet"
           }
          ],
          "scattergeo": [
           {
            "marker": {
             "colorbar": {
              "outlinewidth": 0,
              "ticks": ""
             }
            },
            "type": "scattergeo"
           }
          ],
          "scattergl": [
           {
            "marker": {
             "colorbar": {
              "outlinewidth": 0,
              "ticks": ""
             }
            },
            "type": "scattergl"
           }
          ],
          "scattermapbox": [
           {
            "marker": {
             "colorbar": {
              "outlinewidth": 0,
              "ticks": ""
             }
            },
            "type": "scattermapbox"
           }
          ],
          "scatterpolar": [
           {
            "marker": {
             "colorbar": {
              "outlinewidth": 0,
              "ticks": ""
             }
            },
            "type": "scatterpolar"
           }
          ],
          "scatterpolargl": [
           {
            "marker": {
             "colorbar": {
              "outlinewidth": 0,
              "ticks": ""
             }
            },
            "type": "scatterpolargl"
           }
          ],
          "scatterternary": [
           {
            "marker": {
             "colorbar": {
              "outlinewidth": 0,
              "ticks": ""
             }
            },
            "type": "scatterternary"
           }
          ],
          "surface": [
           {
            "colorbar": {
             "outlinewidth": 0,
             "ticks": ""
            },
            "colorscale": [
             [
              0,
              "#0d0887"
             ],
             [
              0.1111111111111111,
              "#46039f"
             ],
             [
              0.2222222222222222,
              "#7201a8"
             ],
             [
              0.3333333333333333,
              "#9c179e"
             ],
             [
              0.4444444444444444,
              "#bd3786"
             ],
             [
              0.5555555555555556,
              "#d8576b"
             ],
             [
              0.6666666666666666,
              "#ed7953"
             ],
             [
              0.7777777777777778,
              "#fb9f3a"
             ],
             [
              0.8888888888888888,
              "#fdca26"
             ],
             [
              1,
              "#f0f921"
             ]
            ],
            "type": "surface"
           }
          ],
          "table": [
           {
            "cells": {
             "fill": {
              "color": "#EBF0F8"
             },
             "line": {
              "color": "white"
             }
            },
            "header": {
             "fill": {
              "color": "#C8D4E3"
             },
             "line": {
              "color": "white"
             }
            },
            "type": "table"
           }
          ]
         },
         "layout": {
          "annotationdefaults": {
           "arrowcolor": "#2a3f5f",
           "arrowhead": 0,
           "arrowwidth": 1
          },
          "autotypenumbers": "strict",
          "coloraxis": {
           "colorbar": {
            "outlinewidth": 0,
            "ticks": ""
           }
          },
          "colorscale": {
           "diverging": [
            [
             0,
             "#8e0152"
            ],
            [
             0.1,
             "#c51b7d"
            ],
            [
             0.2,
             "#de77ae"
            ],
            [
             0.3,
             "#f1b6da"
            ],
            [
             0.4,
             "#fde0ef"
            ],
            [
             0.5,
             "#f7f7f7"
            ],
            [
             0.6,
             "#e6f5d0"
            ],
            [
             0.7,
             "#b8e186"
            ],
            [
             0.8,
             "#7fbc41"
            ],
            [
             0.9,
             "#4d9221"
            ],
            [
             1,
             "#276419"
            ]
           ],
           "sequential": [
            [
             0,
             "#0d0887"
            ],
            [
             0.1111111111111111,
             "#46039f"
            ],
            [
             0.2222222222222222,
             "#7201a8"
            ],
            [
             0.3333333333333333,
             "#9c179e"
            ],
            [
             0.4444444444444444,
             "#bd3786"
            ],
            [
             0.5555555555555556,
             "#d8576b"
            ],
            [
             0.6666666666666666,
             "#ed7953"
            ],
            [
             0.7777777777777778,
             "#fb9f3a"
            ],
            [
             0.8888888888888888,
             "#fdca26"
            ],
            [
             1,
             "#f0f921"
            ]
           ],
           "sequentialminus": [
            [
             0,
             "#0d0887"
            ],
            [
             0.1111111111111111,
             "#46039f"
            ],
            [
             0.2222222222222222,
             "#7201a8"
            ],
            [
             0.3333333333333333,
             "#9c179e"
            ],
            [
             0.4444444444444444,
             "#bd3786"
            ],
            [
             0.5555555555555556,
             "#d8576b"
            ],
            [
             0.6666666666666666,
             "#ed7953"
            ],
            [
             0.7777777777777778,
             "#fb9f3a"
            ],
            [
             0.8888888888888888,
             "#fdca26"
            ],
            [
             1,
             "#f0f921"
            ]
           ]
          },
          "colorway": [
           "#636efa",
           "#EF553B",
           "#00cc96",
           "#ab63fa",
           "#FFA15A",
           "#19d3f3",
           "#FF6692",
           "#B6E880",
           "#FF97FF",
           "#FECB52"
          ],
          "font": {
           "color": "#2a3f5f"
          },
          "geo": {
           "bgcolor": "white",
           "lakecolor": "white",
           "landcolor": "#E5ECF6",
           "showlakes": true,
           "showland": true,
           "subunitcolor": "white"
          },
          "hoverlabel": {
           "align": "left"
          },
          "hovermode": "closest",
          "mapbox": {
           "style": "light"
          },
          "paper_bgcolor": "white",
          "plot_bgcolor": "#E5ECF6",
          "polar": {
           "angularaxis": {
            "gridcolor": "white",
            "linecolor": "white",
            "ticks": ""
           },
           "bgcolor": "#E5ECF6",
           "radialaxis": {
            "gridcolor": "white",
            "linecolor": "white",
            "ticks": ""
           }
          },
          "scene": {
           "xaxis": {
            "backgroundcolor": "#E5ECF6",
            "gridcolor": "white",
            "gridwidth": 2,
            "linecolor": "white",
            "showbackground": true,
            "ticks": "",
            "zerolinecolor": "white"
           },
           "yaxis": {
            "backgroundcolor": "#E5ECF6",
            "gridcolor": "white",
            "gridwidth": 2,
            "linecolor": "white",
            "showbackground": true,
            "ticks": "",
            "zerolinecolor": "white"
           },
           "zaxis": {
            "backgroundcolor": "#E5ECF6",
            "gridcolor": "white",
            "gridwidth": 2,
            "linecolor": "white",
            "showbackground": true,
            "ticks": "",
            "zerolinecolor": "white"
           }
          },
          "shapedefaults": {
           "line": {
            "color": "#2a3f5f"
           }
          },
          "ternary": {
           "aaxis": {
            "gridcolor": "white",
            "linecolor": "white",
            "ticks": ""
           },
           "baxis": {
            "gridcolor": "white",
            "linecolor": "white",
            "ticks": ""
           },
           "bgcolor": "#E5ECF6",
           "caxis": {
            "gridcolor": "white",
            "linecolor": "white",
            "ticks": ""
           }
          },
          "title": {
           "x": 0.05
          },
          "xaxis": {
           "automargin": true,
           "gridcolor": "white",
           "linecolor": "white",
           "ticks": "",
           "title": {
            "standoff": 15
           },
           "zerolinecolor": "white",
           "zerolinewidth": 2
          },
          "yaxis": {
           "automargin": true,
           "gridcolor": "white",
           "linecolor": "white",
           "ticks": "",
           "title": {
            "standoff": 15
           },
           "zerolinecolor": "white",
           "zerolinewidth": 2
          }
         }
        },
        "xaxis": {
         "anchor": "y",
         "domain": [
          0,
          1
         ],
         "title": {
          "text": "NOx LTO Total mass (g)"
         }
        },
        "yaxis": {
         "anchor": "x",
         "domain": [
          0,
          1
         ],
         "title": {
          "text": "Eng Type"
         }
        }
       }
      }
     },
     "metadata": {},
     "output_type": "display_data"
    }
   ],
   "source": [
    "fig = px.box(no_df, x=\"NOx LTO Total mass (g)\", y='Eng Type', points=\"outliers\", color_discrete_sequence = ['lime'])\n",
    "fig.show()"
   ]
  },
  {
   "attachments": {},
   "cell_type": "markdown",
   "metadata": {},
   "source": [
    "CO"
   ]
  },
  {
   "cell_type": "code",
   "execution_count": 19,
   "metadata": {},
   "outputs": [
    {
     "name": "stdout",
     "output_type": "stream",
     "text": [
      "Lower Limit: -3105.4986268503494\n",
      "Upper Limit: 12826.57917611021\n"
     ]
    },
    {
     "data": {
      "text/plain": [
       "(725, 6)"
      ]
     },
     "execution_count": 19,
     "metadata": {},
     "output_type": "execute_result"
    }
   ],
   "source": [
    "# Step1: Finding the IQR\n",
    "\n",
    "Q1c = df2['CO LTO Total Mass (g)'].quantile(0.25)\n",
    "Q3c = df2['CO LTO Total Mass (g)'].quantile(0.75)\n",
    "IQR = Q3c - Q1c\n",
    "\n",
    "\n",
    "# Step2: Finding the upper and lower limits\n",
    "\n",
    "lower_limit = Q1c - 1.5 * IQR\n",
    "upper_limit = Q3c + 1.5 * IQR\n",
    "\n",
    "# Step3: Print the lower and upper limits\n",
    "print('Lower Limit:', lower_limit)\n",
    "print('Upper Limit:', upper_limit)\n",
    "\n",
    "# Step4: outliers\n",
    "outliers = df2[(df2['CO LTO Total Mass (g)'] < lower_limit) | (df2['CO LTO Total Mass (g)'] > upper_limit)]\n",
    "\n",
    "\n",
    "# Step5: Trimming the outliers\n",
    "co_df = df2[(df2['CO LTO Total Mass (g)'] > lower_limit) & (df2['CO LTO Total Mass (g)'] < upper_limit)]\n",
    "co_df.shape\n",
    "\n"
   ]
  },
  {
   "cell_type": "code",
   "execution_count": 20,
   "metadata": {},
   "outputs": [
    {
     "data": {
      "application/vnd.plotly.v1+json": {
       "config": {
        "plotlyServerURL": "https://plot.ly"
       },
       "data": [
        {
         "alignmentgroup": "True",
         "boxpoints": "outliers",
         "hovertemplate": "CO LTO Total Mass (g)=%{x}<br>Eng Type=%{y}<extra></extra>",
         "legendgroup": "",
         "marker": {
          "color": "blue"
         },
         "name": "",
         "notched": false,
         "offsetgroup": "",
         "orientation": "h",
         "showlegend": false,
         "type": "box",
         "x": [
          2612,
          2254,
          1468,
          1850,
          1865,
          2383,
          1910,
          3088,
          1874,
          2389,
          3088,
          1954,
          2317,
          2919,
          1867,
          2386,
          3087,
          3095,
          1960,
          2488,
          3111,
          1964,
          3018,
          1695,
          1695,
          2108,
          1842,
          2389,
          1746.7,
          3088,
          3088,
          2919,
          3087,
          3018,
          3095,
          3111,
          2123,
          4216.1,
          3739.1,
          4825,
          3913,
          4212,
          4239,
          4449,
          2753,
          3390,
          2693,
          3300,
          2655,
          3236,
          5899,
          4533,
          4239,
          4449,
          4533,
          5899,
          5176,
          6578,
          6578,
          6517,
          5988,
          5591,
          7002,
          3093,
          2968,
          3352,
          3175,
          5423,
          10641,
          9197,
          4984,
          3738,
          5319,
          10404,
          9478,
          4870,
          3776,
          9141,
          4765,
          3777,
          5595,
          11234,
          10400,
          5386,
          4123,
          6343,
          4743,
          10842,
          10205,
          5912,
          4525,
          5386,
          4123,
          6448,
          5176,
          9687,
          6047,
          5012,
          6546,
          6278,
          6436,
          6142,
          6308,
          5964,
          4984,
          4870,
          4765,
          5386,
          6343,
          5912,
          5386,
          6448,
          6047,
          4566,
          7055,
          4324,
          9963,
          6729,
          6729,
          4002,
          10492,
          6179,
          6179,
          6179,
          3998,
          10117,
          5854,
          5854,
          5854,
          3533,
          3533,
          9495,
          5476,
          4945,
          5476,
          5476,
          5476,
          5476,
          5476,
          3436,
          9291,
          5320,
          5320,
          5320,
          5320,
          5320,
          5320,
          5320,
          6729,
          6179,
          6179,
          5854,
          5854,
          5476,
          5476,
          5476,
          5476,
          5476,
          5320,
          5320,
          5320,
          5320,
          5320,
          5320,
          3130,
          2964,
          3455,
          3259,
          3019,
          3259,
          3150,
          3150,
          3455,
          3259,
          3259,
          3150,
          3150,
          3019,
          2339,
          2339,
          2374,
          2438,
          2358,
          2312,
          2257,
          2221,
          2221,
          2221,
          2176,
          2176,
          2358,
          2312,
          2257,
          2221,
          2221,
          2176,
          2221,
          2176,
          12497,
          7014,
          7014,
          6589,
          6911,
          6911,
          6761,
          6439,
          6798,
          6273,
          6067,
          6430,
          6761,
          6439,
          6798,
          6273,
          6067,
          6430,
          6273,
          6067,
          6430,
          6067,
          3350,
          3350,
          3683,
          3683,
          2845,
          2406,
          2070,
          2071,
          2051,
          2026,
          1999,
          2142,
          2169,
          2168,
          2077,
          2065,
          2066,
          2027,
          2026,
          1999,
          2066,
          2026,
          2071,
          2051,
          2142,
          2026,
          1999,
          2168,
          2077,
          2066,
          2026,
          1999,
          2066,
          2026,
          6980,
          6980,
          6920,
          6883,
          6863,
          6863,
          6823,
          6883,
          6883,
          6863,
          6863,
          6863,
          6823,
          7407,
          7407,
          7398,
          7398,
          6532,
          6958,
          6450,
          6367,
          6156,
          6532,
          6681,
          6317,
          7024,
          6717,
          6538,
          6317,
          5931,
          6367,
          6166,
          6166,
          5615,
          6185,
          6093,
          6565,
          6517,
          5598,
          6317,
          5931,
          6166,
          7048,
          6871,
          6871,
          7005,
          6858,
          6526,
          6522,
          6231,
          6305,
          6142,
          6156,
          6156,
          8362,
          7897,
          7266,
          7071,
          6853,
          6890,
          8018,
          7548,
          7003,
          6821,
          6623,
          6623,
          6623,
          6367,
          6318,
          5928,
          5750,
          5544,
          5409,
          5256,
          5256,
          5256,
          5054,
          5014,
          4980,
          4980,
          6890,
          5201,
          5928,
          5750,
          5544,
          5409,
          5256,
          5256,
          5256,
          5054,
          5014,
          4980,
          4980,
          5201,
          5928,
          5750,
          5544,
          5409,
          5256,
          5256,
          5256,
          5054,
          5014,
          4980,
          4980,
          5201,
          1449.8367385095632,
          2368,
          4938,
          2678,
          4938,
          4938,
          2501,
          2786,
          2557,
          2370,
          2402,
          2501,
          2519,
          2402,
          2786,
          2557,
          2370,
          1656,
          2760,
          2780,
          2708,
          2747,
          2764,
          2764,
          2741,
          2741,
          2741,
          2764,
          2764,
          2680,
          2620,
          2594,
          2241,
          2555,
          2503,
          2780,
          2747,
          2741,
          2741,
          2741,
          2594,
          2555,
          2503,
          12334,
          4776,
          4591,
          4776,
          4591,
          5306,
          4478,
          6142,
          6288,
          4938,
          8983,
          9054,
          2955,
          3177,
          8005,
          2826,
          3147,
          2898,
          2716,
          3476,
          3693,
          3229,
          3693,
          4244,
          3234,
          4021,
          8147,
          3186,
          3186,
          8018,
          3241,
          3231,
          3215,
          5952,
          4582,
          4938,
          1598,
          1557,
          1598,
          1557,
          1929.055842683826,
          1870.1847900431626,
          3348,
          3348,
          3174,
          3025,
          3025,
          4076,
          4076,
          4076,
          4076,
          4076,
          4076,
          3819,
          3819,
          3819,
          3819,
          3819,
          3819,
          3617,
          3617,
          3971,
          3971,
          3971,
          3971,
          3971,
          3971,
          3576.7124567177,
          3576.7124567177,
          3576.7124567177,
          3373.947666701027,
          3373.947666701027,
          3373.947666701027,
          3196.257294206347,
          3558.1732967709795,
          3558.1732967709795,
          3558.1732967709795,
          1767.7,
          1767.7,
          1678.3,
          1678.3,
          4056.595319842204,
          4056.595319842204,
          4056.595319842204,
          3834.990024812826,
          3834.990024812826,
          3834.990024812826,
          3541.066591995761,
          3541.066591995761,
          3541.066591995761,
          3360.6163632572357,
          3360.6163632572357,
          3360.6163632572357,
          1719,
          1719,
          1711,
          1868,
          2084,
          2084,
          2084,
          2084,
          2260,
          2260,
          2260,
          2260,
          2399,
          2399,
          2508,
          2508,
          2356,
          2356,
          2256,
          2256,
          2256,
          2256,
          2256,
          2256,
          5396,
          5597,
          6412,
          5219,
          2677,
          2677,
          2625,
          2625,
          2625,
          2878,
          2428,
          2378,
          1997,
          1997,
          1997,
          2828,
          2828,
          3163,
          3163,
          2961,
          2961,
          2961,
          3587,
          7597,
          7234,
          7589,
          7434,
          12331,
          12648,
          7205,
          7205,
          10923.3,
          10579,
          6592.1,
          8848,
          3543,
          3729,
          8023,
          3587,
          7597,
          7401,
          9377,
          7243,
          6851.1,
          8754,
          6741,
          6131,
          8754,
          6741,
          6131,
          5896,
          3587,
          7234,
          11619,
          11164,
          10202,
          9806,
          8741,
          9257,
          7080,
          8811,
          4602,
          4901,
          5018,
          4223,
          5926,
          5926,
          11954,
          5143,
          10871,
          6030,
          5134,
          5134,
          4040,
          6126,
          3837,
          5812,
          5203,
          6536,
          4648,
          5103,
          4123,
          4361,
          4532,
          6744,
          4440,
          4440,
          6921,
          3979,
          3826,
          3762,
          4496,
          8786,
          4175,
          8099,
          11411,
          10606,
          11411,
          10606,
          8848,
          8302,
          7602,
          6381,
          7834,
          6461,
          7099,
          5650,
          5471,
          5557,
          5557,
          5650,
          5557,
          5557,
          3499,
          3238,
          3238,
          3949,
          3358,
          3826,
          3131,
          2984,
          2984,
          3832,
          3242,
          4207,
          3131,
          3131,
          3481,
          3714,
          3256,
          4041,
          3138,
          3138,
          3395,
          2849,
          2690,
          2690,
          2761,
          3040,
          2585,
          2585,
          2690,
          2760,
          2760,
          2690,
          2585,
          2728,
          2689,
          2689,
          2849,
          2690,
          2690,
          2761,
          3040,
          2585,
          2585,
          2690,
          2760,
          2760,
          2690,
          2585,
          2728,
          2689,
          2689,
          3067.852254237596,
          2860.061098519721,
          2860.061098519721,
          2951.0643110921133,
          3286.0414550046366,
          2737.354826935967,
          2737.354826935967,
          2860.061098519721,
          2807.176747521369,
          2807.176747521369,
          2860.061098519721,
          2737.354826935967,
          2768.705400595936,
          3423.759211378181,
          3331.4395065402227,
          3146.298063117356,
          3146.298063117356,
          3146.298063117356,
          10674,
          10227,
          10227,
          9760,
          11049,
          10597,
          10597,
          10122,
          10117,
          4015.65603664317,
          11049,
          10597,
          10597,
          10122,
          4015.65603664317,
          3527,
          3244,
          2796,
          2803,
          4938,
          4938,
          4938,
          4938
         ],
         "x0": " ",
         "xaxis": "x",
         "y": [
          "TF",
          "TF",
          "MTF",
          "MTF",
          "MTF",
          "MTF",
          "MTF",
          "MTF",
          "MTF",
          "MTF",
          "MTF",
          "MTF",
          "MTF",
          "MTF",
          "MTF",
          "MTF",
          "MTF",
          "MTF",
          "MTF",
          "MTF",
          "MTF",
          "MTF",
          "MTF",
          "MTF",
          "MTF",
          "MTF",
          "MTF",
          "MTF",
          "MTF",
          "MTF",
          "MTF",
          "MTF",
          "MTF",
          "MTF",
          "MTF",
          "MTF",
          "MTF",
          "MTF",
          "MTF",
          "MTF",
          "MTF",
          "MTF",
          "MTF",
          "MTF",
          "MTF",
          "MTF",
          "MTF",
          "MTF",
          "MTF",
          "MTF",
          "MTF",
          "MTF",
          "MTF",
          "MTF",
          "MTF",
          "MTF",
          "TF",
          "TF",
          "TF",
          "TF",
          "TF",
          "TF",
          "TF",
          "TF",
          "TF",
          "TF",
          "TF",
          "TF",
          "TF",
          "TF",
          "TF",
          "TF",
          "TF",
          "TF",
          "TF",
          "TF",
          "TF",
          "TF",
          "TF",
          "TF",
          "TF",
          "TF",
          "TF",
          "TF",
          "TF",
          "TF",
          "TF",
          "TF",
          "TF",
          "TF",
          "TF",
          "TF",
          "TF",
          "TF",
          "TF",
          "TF",
          "TF",
          "TF",
          "MTF",
          "MTF",
          "MTF",
          "MTF",
          "MTF",
          "MTF",
          "TF",
          "TF",
          "TF",
          "TF",
          "TF",
          "TF",
          "TF",
          "TF",
          "TF",
          "TF",
          "TF",
          "TF",
          "TF",
          "TF",
          "TF",
          "TF",
          "TF",
          "TF",
          "TF",
          "TF",
          "TF",
          "TF",
          "TF",
          "TF",
          "TF",
          "TF",
          "TF",
          "TF",
          "TF",
          "TF",
          "TF",
          "TF",
          "TF",
          "TF",
          "TF",
          "TF",
          "TF",
          "TF",
          "TF",
          "TF",
          "TF",
          "TF",
          "TF",
          "TF",
          "TF",
          "TF",
          "TF",
          "TF",
          "TF",
          "TF",
          "TF",
          "TF",
          "TF",
          "TF",
          "TF",
          "TF",
          "TF",
          "TF",
          "TF",
          "TF",
          "TF",
          "TF",
          "TF",
          "TF",
          "TF",
          "TF",
          "TF",
          "TF",
          "TF",
          "TF",
          "TF",
          "TF",
          "TF",
          "TF",
          "TF",
          "TF",
          "TF",
          "TF",
          "TF",
          "TF",
          "TF",
          "TF",
          "TF",
          "TF",
          "TF",
          "TF",
          "TF",
          "TF",
          "TF",
          "TF",
          "TF",
          "TF",
          "TF",
          "TF",
          "TF",
          "TF",
          "TF",
          "TF",
          "TF",
          "TF",
          "TF",
          "TF",
          "TF",
          "TF",
          "TF",
          "TF",
          "TF",
          "TF",
          "TF",
          "TF",
          "TF",
          "TF",
          "TF",
          "TF",
          "TF",
          "TF",
          "TF",
          "TF",
          "TF",
          "TF",
          "TF",
          "TF",
          "TF",
          "TF",
          "TF",
          "TF",
          "TF",
          "TF",
          "TF",
          "TF",
          "TF",
          "TF",
          "TF",
          "TF",
          "TF",
          "TF",
          "TF",
          "TF",
          "TF",
          "TF",
          "TF",
          "TF",
          "TF",
          "TF",
          "TF",
          "TF",
          "TF",
          "TF",
          "TF",
          "TF",
          "TF",
          "TF",
          "TF",
          "TF",
          "TF",
          "TF",
          "TF",
          "TF",
          "TF",
          "TF",
          "TF",
          "TF",
          "TF",
          "TF",
          "TF",
          "TF",
          "TF",
          "TF",
          "TF",
          "TF",
          "TF",
          "TF",
          "TF",
          "TF",
          "TF",
          "TF",
          "TF",
          "TF",
          "TF",
          "TF",
          "TF",
          "TF",
          "TF",
          "TF",
          "TF",
          "TF",
          "TF",
          "TF",
          "TF",
          "TF",
          "TF",
          "TF",
          "TF",
          "TF",
          "TF",
          "TF",
          "TF",
          "TF",
          "TF",
          "TF",
          "TF",
          "TF",
          "TF",
          "TF",
          "TF",
          "TF",
          "TF",
          "TF",
          "TF",
          "TF",
          "TF",
          "TF",
          "TF",
          "TF",
          "TF",
          "TF",
          "TF",
          "TF",
          "TF",
          "TF",
          "TF",
          "TF",
          "TF",
          "TF",
          "TF",
          "TF",
          "TF",
          "TF",
          "TF",
          "TF",
          "TF",
          "TF",
          "TF",
          "TF",
          "TF",
          "TF",
          "TF",
          "TF",
          "TF",
          "TF",
          "TF",
          "TF",
          "TF",
          "TF",
          "TF",
          "TF",
          "TF",
          "TF",
          "TF",
          "TF",
          "TF",
          "TF",
          "TF",
          "TF",
          "TF",
          "TF",
          "MTF",
          "TF",
          "MTF",
          "MTF",
          "MTF",
          "MTF",
          "MTF",
          "MTF",
          "MTF",
          "MTF",
          "MTF",
          "MTF",
          "MTF",
          "MTF",
          "MTF",
          "MTF",
          "MTF",
          "MTF",
          "MTF",
          "MTF",
          "MTF",
          "MTF",
          "MTF",
          "MTF",
          "MTF",
          "MTF",
          "MTF",
          "MTF",
          "MTF",
          "MTF",
          "MTF",
          "MTF",
          "MTF",
          "MTF",
          "MTF",
          "MTF",
          "MTF",
          "MTF",
          "MTF",
          "MTF",
          "MTF",
          "MTF",
          "MTF",
          "MTF",
          "MTF",
          "MTF",
          "MTF",
          "MTF",
          "TF",
          "TF",
          "TF",
          "TF",
          "TF",
          "MTF",
          "MTF",
          "MTF",
          "MTF",
          "MTF",
          "MTF",
          "MTF",
          "MTF",
          "MTF",
          "MTF",
          "MTF",
          "MTF",
          "MTF",
          "MTF",
          "MTF",
          "MTF",
          "MTF",
          "MTF",
          "MTF",
          "MTF",
          "MTF",
          "TF",
          "TF",
          "TF",
          "TF",
          "TF",
          "TF",
          "TF",
          "TF",
          "TF",
          "MTF",
          "MTF",
          "TF",
          "TF",
          "TF",
          "TF",
          "TF",
          "TF",
          "TF",
          "TF",
          "TF",
          "TF",
          "TF",
          "TF",
          "TF",
          "TF",
          "TF",
          "TF",
          "TF",
          "TF",
          "TF",
          "TF",
          "TF",
          "TF",
          "TF",
          "TF",
          "TF",
          "TF",
          "TF",
          "TF",
          "TF",
          "TF",
          "TF",
          "TF",
          "TF",
          "TF",
          "TF",
          "TF",
          "TF",
          "TF",
          "TF",
          "TF",
          "TF",
          "TF",
          "TF",
          "TF",
          "TF",
          "TF",
          "TF",
          "TF",
          "TF",
          "TF",
          "TF",
          "TF",
          "TF",
          "TF",
          "TF",
          "TF",
          "TF",
          "TF",
          "TF",
          "TF",
          "TF",
          "TF",
          "TF",
          "TF",
          "TF",
          "TF",
          "TF",
          "TF",
          "TF",
          "TF",
          "TF",
          "TF",
          "TF",
          "TF",
          "TF",
          "TF",
          "TF",
          "TF",
          "TF",
          "MTF",
          "MTF",
          "MTF",
          "MTF",
          "MTF",
          "TF",
          "MTF",
          "MTF",
          "MTF",
          "MTF",
          "MTF",
          "MTF",
          "MTF",
          "MTF",
          "MTF",
          "MTF",
          "MTF",
          "MTF",
          "TF",
          "TF",
          "TF",
          "TF",
          "TF",
          "TF",
          "TF",
          "TF",
          "TF",
          "TF",
          "TF",
          "TF",
          "TF",
          "TF",
          "TF",
          "TF",
          "TF",
          "TF",
          "TF",
          "TF",
          "TF",
          "TF",
          "TF",
          "TF",
          "TF",
          "TF",
          "TF",
          "TF",
          "TF",
          "TF",
          "TF",
          "TF",
          "TF",
          "TF",
          "TF",
          "TF",
          "TF",
          "TF",
          "TF",
          "MTF",
          "MTF",
          "TF",
          "TF",
          "MTF",
          "MTF",
          "MTF",
          "MTF",
          "MTF",
          "TF",
          "MTF",
          "MTF",
          "MTF",
          "MTF",
          "MTF",
          "MTF",
          "MTF",
          "MTF",
          "MTF",
          "MTF",
          "MTF",
          "MTF",
          "MTF",
          "MTF",
          "MTF",
          "MTF",
          "MTF",
          "TF",
          "TF",
          "TF",
          "MTF",
          "MTF",
          "MTF",
          "MTF",
          "MTF",
          "MTF",
          "MTF",
          "MTF",
          "TF",
          "TF",
          "TF",
          "TF",
          "TF",
          "TF",
          "TF",
          "TF",
          "TF",
          "TF",
          "TF",
          "TF",
          "TF",
          "TF",
          "TF",
          "TF",
          "TF",
          "TF",
          "TF",
          "TF",
          "TF",
          "TF",
          "TF",
          "TF",
          "TF",
          "TF",
          "TF",
          "TF",
          "TF",
          "TF",
          "TF",
          "TF",
          "TF",
          "TF",
          "TF",
          "TF",
          "TF",
          "TF",
          "TF",
          "TF",
          "TF",
          "TF",
          "TF",
          "TF",
          "TF",
          "TF",
          "TF",
          "TF",
          "TF",
          "TF",
          "TF",
          "TF",
          "TF",
          "TF",
          "TF",
          "TF",
          "TF",
          "TF",
          "TF",
          "TF",
          "TF",
          "TF",
          "TF",
          "TF",
          "TF",
          "TF",
          "TF",
          "TF",
          "TF",
          "TF",
          "TF",
          "TF",
          "TF",
          "TF",
          "TF",
          "TF",
          "TF",
          "TF",
          "TF",
          "TF",
          "TF",
          "TF",
          "TF",
          "TF",
          "TF",
          "TF",
          "TF",
          "TF",
          "TF",
          "TF",
          "TF",
          "TF",
          "TF",
          "TF",
          "TF",
          "TF",
          "TF",
          "TF",
          "TF",
          "TF",
          "TF",
          "TF",
          "TF",
          "TF",
          "TF",
          "TF"
         ],
         "y0": " ",
         "yaxis": "y"
        }
       ],
       "layout": {
        "boxmode": "group",
        "legend": {
         "tracegroupgap": 0
        },
        "margin": {
         "t": 60
        },
        "template": {
         "data": {
          "bar": [
           {
            "error_x": {
             "color": "#2a3f5f"
            },
            "error_y": {
             "color": "#2a3f5f"
            },
            "marker": {
             "line": {
              "color": "#E5ECF6",
              "width": 0.5
             },
             "pattern": {
              "fillmode": "overlay",
              "size": 10,
              "solidity": 0.2
             }
            },
            "type": "bar"
           }
          ],
          "barpolar": [
           {
            "marker": {
             "line": {
              "color": "#E5ECF6",
              "width": 0.5
             },
             "pattern": {
              "fillmode": "overlay",
              "size": 10,
              "solidity": 0.2
             }
            },
            "type": "barpolar"
           }
          ],
          "carpet": [
           {
            "aaxis": {
             "endlinecolor": "#2a3f5f",
             "gridcolor": "white",
             "linecolor": "white",
             "minorgridcolor": "white",
             "startlinecolor": "#2a3f5f"
            },
            "baxis": {
             "endlinecolor": "#2a3f5f",
             "gridcolor": "white",
             "linecolor": "white",
             "minorgridcolor": "white",
             "startlinecolor": "#2a3f5f"
            },
            "type": "carpet"
           }
          ],
          "choropleth": [
           {
            "colorbar": {
             "outlinewidth": 0,
             "ticks": ""
            },
            "type": "choropleth"
           }
          ],
          "contour": [
           {
            "colorbar": {
             "outlinewidth": 0,
             "ticks": ""
            },
            "colorscale": [
             [
              0,
              "#0d0887"
             ],
             [
              0.1111111111111111,
              "#46039f"
             ],
             [
              0.2222222222222222,
              "#7201a8"
             ],
             [
              0.3333333333333333,
              "#9c179e"
             ],
             [
              0.4444444444444444,
              "#bd3786"
             ],
             [
              0.5555555555555556,
              "#d8576b"
             ],
             [
              0.6666666666666666,
              "#ed7953"
             ],
             [
              0.7777777777777778,
              "#fb9f3a"
             ],
             [
              0.8888888888888888,
              "#fdca26"
             ],
             [
              1,
              "#f0f921"
             ]
            ],
            "type": "contour"
           }
          ],
          "contourcarpet": [
           {
            "colorbar": {
             "outlinewidth": 0,
             "ticks": ""
            },
            "type": "contourcarpet"
           }
          ],
          "heatmap": [
           {
            "colorbar": {
             "outlinewidth": 0,
             "ticks": ""
            },
            "colorscale": [
             [
              0,
              "#0d0887"
             ],
             [
              0.1111111111111111,
              "#46039f"
             ],
             [
              0.2222222222222222,
              "#7201a8"
             ],
             [
              0.3333333333333333,
              "#9c179e"
             ],
             [
              0.4444444444444444,
              "#bd3786"
             ],
             [
              0.5555555555555556,
              "#d8576b"
             ],
             [
              0.6666666666666666,
              "#ed7953"
             ],
             [
              0.7777777777777778,
              "#fb9f3a"
             ],
             [
              0.8888888888888888,
              "#fdca26"
             ],
             [
              1,
              "#f0f921"
             ]
            ],
            "type": "heatmap"
           }
          ],
          "heatmapgl": [
           {
            "colorbar": {
             "outlinewidth": 0,
             "ticks": ""
            },
            "colorscale": [
             [
              0,
              "#0d0887"
             ],
             [
              0.1111111111111111,
              "#46039f"
             ],
             [
              0.2222222222222222,
              "#7201a8"
             ],
             [
              0.3333333333333333,
              "#9c179e"
             ],
             [
              0.4444444444444444,
              "#bd3786"
             ],
             [
              0.5555555555555556,
              "#d8576b"
             ],
             [
              0.6666666666666666,
              "#ed7953"
             ],
             [
              0.7777777777777778,
              "#fb9f3a"
             ],
             [
              0.8888888888888888,
              "#fdca26"
             ],
             [
              1,
              "#f0f921"
             ]
            ],
            "type": "heatmapgl"
           }
          ],
          "histogram": [
           {
            "marker": {
             "pattern": {
              "fillmode": "overlay",
              "size": 10,
              "solidity": 0.2
             }
            },
            "type": "histogram"
           }
          ],
          "histogram2d": [
           {
            "colorbar": {
             "outlinewidth": 0,
             "ticks": ""
            },
            "colorscale": [
             [
              0,
              "#0d0887"
             ],
             [
              0.1111111111111111,
              "#46039f"
             ],
             [
              0.2222222222222222,
              "#7201a8"
             ],
             [
              0.3333333333333333,
              "#9c179e"
             ],
             [
              0.4444444444444444,
              "#bd3786"
             ],
             [
              0.5555555555555556,
              "#d8576b"
             ],
             [
              0.6666666666666666,
              "#ed7953"
             ],
             [
              0.7777777777777778,
              "#fb9f3a"
             ],
             [
              0.8888888888888888,
              "#fdca26"
             ],
             [
              1,
              "#f0f921"
             ]
            ],
            "type": "histogram2d"
           }
          ],
          "histogram2dcontour": [
           {
            "colorbar": {
             "outlinewidth": 0,
             "ticks": ""
            },
            "colorscale": [
             [
              0,
              "#0d0887"
             ],
             [
              0.1111111111111111,
              "#46039f"
             ],
             [
              0.2222222222222222,
              "#7201a8"
             ],
             [
              0.3333333333333333,
              "#9c179e"
             ],
             [
              0.4444444444444444,
              "#bd3786"
             ],
             [
              0.5555555555555556,
              "#d8576b"
             ],
             [
              0.6666666666666666,
              "#ed7953"
             ],
             [
              0.7777777777777778,
              "#fb9f3a"
             ],
             [
              0.8888888888888888,
              "#fdca26"
             ],
             [
              1,
              "#f0f921"
             ]
            ],
            "type": "histogram2dcontour"
           }
          ],
          "mesh3d": [
           {
            "colorbar": {
             "outlinewidth": 0,
             "ticks": ""
            },
            "type": "mesh3d"
           }
          ],
          "parcoords": [
           {
            "line": {
             "colorbar": {
              "outlinewidth": 0,
              "ticks": ""
             }
            },
            "type": "parcoords"
           }
          ],
          "pie": [
           {
            "automargin": true,
            "type": "pie"
           }
          ],
          "scatter": [
           {
            "fillpattern": {
             "fillmode": "overlay",
             "size": 10,
             "solidity": 0.2
            },
            "type": "scatter"
           }
          ],
          "scatter3d": [
           {
            "line": {
             "colorbar": {
              "outlinewidth": 0,
              "ticks": ""
             }
            },
            "marker": {
             "colorbar": {
              "outlinewidth": 0,
              "ticks": ""
             }
            },
            "type": "scatter3d"
           }
          ],
          "scattercarpet": [
           {
            "marker": {
             "colorbar": {
              "outlinewidth": 0,
              "ticks": ""
             }
            },
            "type": "scattercarpet"
           }
          ],
          "scattergeo": [
           {
            "marker": {
             "colorbar": {
              "outlinewidth": 0,
              "ticks": ""
             }
            },
            "type": "scattergeo"
           }
          ],
          "scattergl": [
           {
            "marker": {
             "colorbar": {
              "outlinewidth": 0,
              "ticks": ""
             }
            },
            "type": "scattergl"
           }
          ],
          "scattermapbox": [
           {
            "marker": {
             "colorbar": {
              "outlinewidth": 0,
              "ticks": ""
             }
            },
            "type": "scattermapbox"
           }
          ],
          "scatterpolar": [
           {
            "marker": {
             "colorbar": {
              "outlinewidth": 0,
              "ticks": ""
             }
            },
            "type": "scatterpolar"
           }
          ],
          "scatterpolargl": [
           {
            "marker": {
             "colorbar": {
              "outlinewidth": 0,
              "ticks": ""
             }
            },
            "type": "scatterpolargl"
           }
          ],
          "scatterternary": [
           {
            "marker": {
             "colorbar": {
              "outlinewidth": 0,
              "ticks": ""
             }
            },
            "type": "scatterternary"
           }
          ],
          "surface": [
           {
            "colorbar": {
             "outlinewidth": 0,
             "ticks": ""
            },
            "colorscale": [
             [
              0,
              "#0d0887"
             ],
             [
              0.1111111111111111,
              "#46039f"
             ],
             [
              0.2222222222222222,
              "#7201a8"
             ],
             [
              0.3333333333333333,
              "#9c179e"
             ],
             [
              0.4444444444444444,
              "#bd3786"
             ],
             [
              0.5555555555555556,
              "#d8576b"
             ],
             [
              0.6666666666666666,
              "#ed7953"
             ],
             [
              0.7777777777777778,
              "#fb9f3a"
             ],
             [
              0.8888888888888888,
              "#fdca26"
             ],
             [
              1,
              "#f0f921"
             ]
            ],
            "type": "surface"
           }
          ],
          "table": [
           {
            "cells": {
             "fill": {
              "color": "#EBF0F8"
             },
             "line": {
              "color": "white"
             }
            },
            "header": {
             "fill": {
              "color": "#C8D4E3"
             },
             "line": {
              "color": "white"
             }
            },
            "type": "table"
           }
          ]
         },
         "layout": {
          "annotationdefaults": {
           "arrowcolor": "#2a3f5f",
           "arrowhead": 0,
           "arrowwidth": 1
          },
          "autotypenumbers": "strict",
          "coloraxis": {
           "colorbar": {
            "outlinewidth": 0,
            "ticks": ""
           }
          },
          "colorscale": {
           "diverging": [
            [
             0,
             "#8e0152"
            ],
            [
             0.1,
             "#c51b7d"
            ],
            [
             0.2,
             "#de77ae"
            ],
            [
             0.3,
             "#f1b6da"
            ],
            [
             0.4,
             "#fde0ef"
            ],
            [
             0.5,
             "#f7f7f7"
            ],
            [
             0.6,
             "#e6f5d0"
            ],
            [
             0.7,
             "#b8e186"
            ],
            [
             0.8,
             "#7fbc41"
            ],
            [
             0.9,
             "#4d9221"
            ],
            [
             1,
             "#276419"
            ]
           ],
           "sequential": [
            [
             0,
             "#0d0887"
            ],
            [
             0.1111111111111111,
             "#46039f"
            ],
            [
             0.2222222222222222,
             "#7201a8"
            ],
            [
             0.3333333333333333,
             "#9c179e"
            ],
            [
             0.4444444444444444,
             "#bd3786"
            ],
            [
             0.5555555555555556,
             "#d8576b"
            ],
            [
             0.6666666666666666,
             "#ed7953"
            ],
            [
             0.7777777777777778,
             "#fb9f3a"
            ],
            [
             0.8888888888888888,
             "#fdca26"
            ],
            [
             1,
             "#f0f921"
            ]
           ],
           "sequentialminus": [
            [
             0,
             "#0d0887"
            ],
            [
             0.1111111111111111,
             "#46039f"
            ],
            [
             0.2222222222222222,
             "#7201a8"
            ],
            [
             0.3333333333333333,
             "#9c179e"
            ],
            [
             0.4444444444444444,
             "#bd3786"
            ],
            [
             0.5555555555555556,
             "#d8576b"
            ],
            [
             0.6666666666666666,
             "#ed7953"
            ],
            [
             0.7777777777777778,
             "#fb9f3a"
            ],
            [
             0.8888888888888888,
             "#fdca26"
            ],
            [
             1,
             "#f0f921"
            ]
           ]
          },
          "colorway": [
           "#636efa",
           "#EF553B",
           "#00cc96",
           "#ab63fa",
           "#FFA15A",
           "#19d3f3",
           "#FF6692",
           "#B6E880",
           "#FF97FF",
           "#FECB52"
          ],
          "font": {
           "color": "#2a3f5f"
          },
          "geo": {
           "bgcolor": "white",
           "lakecolor": "white",
           "landcolor": "#E5ECF6",
           "showlakes": true,
           "showland": true,
           "subunitcolor": "white"
          },
          "hoverlabel": {
           "align": "left"
          },
          "hovermode": "closest",
          "mapbox": {
           "style": "light"
          },
          "paper_bgcolor": "white",
          "plot_bgcolor": "#E5ECF6",
          "polar": {
           "angularaxis": {
            "gridcolor": "white",
            "linecolor": "white",
            "ticks": ""
           },
           "bgcolor": "#E5ECF6",
           "radialaxis": {
            "gridcolor": "white",
            "linecolor": "white",
            "ticks": ""
           }
          },
          "scene": {
           "xaxis": {
            "backgroundcolor": "#E5ECF6",
            "gridcolor": "white",
            "gridwidth": 2,
            "linecolor": "white",
            "showbackground": true,
            "ticks": "",
            "zerolinecolor": "white"
           },
           "yaxis": {
            "backgroundcolor": "#E5ECF6",
            "gridcolor": "white",
            "gridwidth": 2,
            "linecolor": "white",
            "showbackground": true,
            "ticks": "",
            "zerolinecolor": "white"
           },
           "zaxis": {
            "backgroundcolor": "#E5ECF6",
            "gridcolor": "white",
            "gridwidth": 2,
            "linecolor": "white",
            "showbackground": true,
            "ticks": "",
            "zerolinecolor": "white"
           }
          },
          "shapedefaults": {
           "line": {
            "color": "#2a3f5f"
           }
          },
          "ternary": {
           "aaxis": {
            "gridcolor": "white",
            "linecolor": "white",
            "ticks": ""
           },
           "baxis": {
            "gridcolor": "white",
            "linecolor": "white",
            "ticks": ""
           },
           "bgcolor": "#E5ECF6",
           "caxis": {
            "gridcolor": "white",
            "linecolor": "white",
            "ticks": ""
           }
          },
          "title": {
           "x": 0.05
          },
          "xaxis": {
           "automargin": true,
           "gridcolor": "white",
           "linecolor": "white",
           "ticks": "",
           "title": {
            "standoff": 15
           },
           "zerolinecolor": "white",
           "zerolinewidth": 2
          },
          "yaxis": {
           "automargin": true,
           "gridcolor": "white",
           "linecolor": "white",
           "ticks": "",
           "title": {
            "standoff": 15
           },
           "zerolinecolor": "white",
           "zerolinewidth": 2
          }
         }
        },
        "xaxis": {
         "anchor": "y",
         "domain": [
          0,
          1
         ],
         "title": {
          "text": "CO LTO Total Mass (g)"
         }
        },
        "yaxis": {
         "anchor": "x",
         "domain": [
          0,
          1
         ],
         "title": {
          "text": "Eng Type"
         }
        }
       }
      }
     },
     "metadata": {},
     "output_type": "display_data"
    }
   ],
   "source": [
    "fig = px.box(co_df, x=\"CO LTO Total Mass (g)\", y='Eng Type', points=\"outliers\", color_discrete_sequence = ['blue'])\n",
    "fig.show()"
   ]
  },
  {
   "attachments": {},
   "cell_type": "markdown",
   "metadata": {},
   "source": [
    "HC"
   ]
  },
  {
   "cell_type": "code",
   "execution_count": 21,
   "metadata": {},
   "outputs": [
    {
     "name": "stdout",
     "output_type": "stream",
     "text": [
      "Lower Limit: -3105.4986268503494\n",
      "Upper Limit: 12826.57917611021\n"
     ]
    }
   ],
   "source": [
    "# Step1: Finding the IQR\n",
    "\n",
    "Q1h = df2['CO LTO Total Mass (g)'].quantile(0.25)\n",
    "Q3h = df2['CO LTO Total Mass (g)'].quantile(0.75)\n",
    "IQR = Q3h - Q1h\n",
    "\n",
    "\n",
    "# Step2: Finding the upper and lower limits\n",
    "\n",
    "lower_limit = Q1h - 1.5 * IQR\n",
    "upper_limit = Q3h + 1.5 * IQR\n",
    "\n",
    "# Step3: Print the lower and upper limits\n",
    "print('Lower Limit:', lower_limit)\n",
    "print('Upper Limit:', upper_limit)\n",
    "\n",
    "# Step4: outliers\n",
    "outliers = df2[(df2['HC LTO Total mass (g)'] < lower_limit) | (df2['HC LTO Total mass (g)'] > upper_limit)]\n",
    "\n"
   ]
  },
  {
   "cell_type": "code",
   "execution_count": 22,
   "metadata": {},
   "outputs": [
    {
     "data": {
      "text/plain": [
       "(805, 6)"
      ]
     },
     "execution_count": 22,
     "metadata": {},
     "output_type": "execute_result"
    }
   ],
   "source": [
    "# Step5: Trimming the outliers\n",
    "hc_df = df2[(df2['HC LTO Total mass (g)'] > lower_limit) & (df2['HC LTO Total mass (g)'] < upper_limit)]\n",
    "hc_df.shape"
   ]
  },
  {
   "cell_type": "code",
   "execution_count": 23,
   "metadata": {},
   "outputs": [
    {
     "data": {
      "application/vnd.plotly.v1+json": {
       "config": {
        "plotlyServerURL": "https://plot.ly"
       },
       "data": [
        {
         "alignmentgroup": "True",
         "boxpoints": "outliers",
         "hovertemplate": "HC LTO Total mass (g)=%{x}<br>Eng Type=%{y}<extra></extra>",
         "legendgroup": "",
         "marker": {
          "color": "purple"
         },
         "name": "",
         "notched": false,
         "offsetgroup": "",
         "orientation": "h",
         "showlegend": false,
         "type": "box",
         "x": [
          823,
          393,
          226,
          346,
          307,
          367,
          279,
          279,
          313,
          370,
          280,
          357,
          372,
          269,
          308,
          368,
          280,
          146,
          361,
          401,
          289,
          387,
          264,
          320,
          320,
          344,
          344,
          389,
          194.8,
          279,
          280,
          269,
          280,
          264,
          146,
          289,
          8992,
          4874,
          3753,
          4389,
          138,
          470.2,
          240.7,
          820,
          279,
          156,
          160,
          301,
          34,
          25,
          27,
          20,
          22,
          18,
          398,
          265,
          160,
          301,
          265,
          398,
          242,
          378,
          378,
          418,
          337,
          287,
          507,
          285,
          268,
          322,
          297,
          617,
          1168,
          891,
          240,
          710,
          596,
          1128,
          877,
          221,
          712,
          807,
          204,
          708,
          674,
          1350,
          1136,
          314,
          818,
          520,
          980,
          630,
          849,
          440,
          901,
          314,
          818,
          544,
          1023,
          789,
          452,
          970,
          1050,
          986,
          1012,
          943,
          975,
          897,
          240,
          221,
          204,
          314,
          520,
          440,
          314,
          544,
          452,
          549,
          656,
          504,
          1340,
          574,
          572,
          432,
          1643,
          447,
          446,
          446,
          432,
          1576,
          377,
          377,
          377,
          361,
          361,
          1425,
          302,
          269,
          302,
          302,
          302,
          302,
          302,
          335,
          1363,
          273,
          273,
          273,
          273,
          273,
          273,
          273,
          572,
          446,
          446,
          377,
          377,
          302,
          302,
          302,
          302,
          302,
          273,
          273,
          273,
          273,
          273,
          273,
          43,
          40,
          55,
          46,
          39,
          46,
          43,
          43,
          55,
          46,
          46,
          43,
          43,
          39,
          97,
          97,
          106,
          116,
          106,
          99,
          93,
          85,
          85,
          85,
          79,
          79,
          106,
          99,
          93,
          85,
          85,
          79,
          85,
          79,
          1498,
          919,
          919,
          776,
          721,
          721,
          848,
          670,
          692,
          690,
          568,
          601,
          848,
          670,
          692,
          690,
          568,
          601,
          690,
          568,
          601,
          568,
          313,
          313,
          366,
          366,
          13,
          20,
          18,
          18,
          18,
          18,
          18,
          20,
          21,
          21,
          19,
          18,
          18,
          18,
          18,
          18,
          18,
          18,
          18,
          18,
          20,
          18,
          18,
          21,
          19,
          18,
          18,
          18,
          18,
          18,
          780,
          8485,
          780,
          785,
          7998,
          784,
          788,
          7715,
          788,
          786,
          7998,
          784,
          784,
          788,
          788,
          7715,
          788,
          786,
          5821,
          5617,
          5821,
          5617,
          1636,
          1636,
          1659,
          1659,
          2915,
          536,
          3239,
          3152,
          602,
          2970,
          2874,
          523,
          2966,
          2966,
          509,
          440,
          3005,
          536,
          2953,
          561,
          3157,
          3127,
          513,
          3407,
          617,
          3467,
          579,
          3088,
          535,
          3176,
          513,
          459,
          2966,
          509,
          3041,
          490,
          3041,
          490,
          394,
          489,
          2822,
          478,
          3463,
          494,
          3384,
          480,
          3438,
          3726,
          359,
          513,
          459,
          490,
          2679,
          2608,
          2559,
          2042.7477480000007,
          1994.098452,
          1964.0470080000007,
          2042.7477480000007,
          1964.0470080000007,
          1753,
          279,
          241,
          241,
          1565,
          1318,
          1938,
          276,
          243,
          1548,
          1307,
          1772,
          238,
          228,
          1379,
          1212,
          1674,
          218,
          226,
          1298,
          1159,
          1594,
          212,
          221,
          221,
          1136,
          400,
          342,
          265,
          244,
          221,
          208,
          326,
          278,
          224,
          208,
          192,
          192,
          192,
          173,
          170,
          197,
          197,
          191,
          176,
          162,
          162,
          162,
          145,
          143,
          140,
          140,
          208,
          154,
          197,
          197,
          191,
          176,
          162,
          162,
          162,
          145,
          143,
          140,
          140,
          154,
          197,
          197,
          191,
          176,
          162,
          162,
          162,
          145,
          143,
          140,
          140,
          154,
          7.154031251237661,
          325,
          277,
          100,
          277,
          277,
          81,
          104,
          91,
          72,
          77,
          81,
          82,
          77,
          104,
          91,
          72,
          73,
          30,
          39,
          31,
          39,
          32,
          32,
          39,
          39,
          39,
          32,
          32,
          34,
          35,
          38,
          35,
          38,
          28,
          39,
          39,
          39,
          39,
          39,
          38,
          38,
          28,
          11824,
          5988,
          1773,
          167,
          136,
          167,
          136,
          1866,
          1706,
          5715,
          4439,
          277,
          2455,
          2713,
          428,
          497,
          2646,
          379,
          1543,
          403,
          329,
          1047,
          0,
          937,
          0,
          0,
          951,
          0,
          2315,
          830,
          830,
          2256,
          713,
          12108,
          12108,
          9178,
          4559,
          12179,
          12179,
          4559,
          12108,
          12108,
          9055,
          9464,
          9178,
          4559,
          464,
          447,
          1231,
          620,
          651,
          6,
          7,
          6,
          7,
          13.435461880763285,
          14.490920215040836,
          21,
          21,
          18,
          16,
          16,
          80,
          80,
          80,
          80,
          80,
          80,
          59,
          59,
          59,
          59,
          59,
          59,
          51,
          51,
          48,
          48,
          48,
          48,
          48,
          48,
          73.93135539146085,
          73.93135539146085,
          73.93135539146085,
          68.6788539383053,
          68.6788539383053,
          68.6788539383053,
          64.80705449804114,
          69.86317702738472,
          69.86317702738472,
          69.86317702738472,
          4.374,
          4.374,
          4.8,
          4.8,
          58.08612883799699,
          58.08612883799699,
          58.08612883799699,
          49.56848493393812,
          49.56848493393812,
          49.56848493393812,
          70.28659960881058,
          70.28659960881058,
          70.28659960881058,
          66.41030537563006,
          66.41030537563006,
          66.41030537563006,
          30,
          30,
          27,
          36,
          18,
          18,
          18,
          18,
          20,
          20,
          20,
          20,
          23,
          23,
          25,
          25,
          21,
          21,
          19,
          19,
          19,
          19,
          19,
          19,
          530,
          472,
          574,
          426,
          287,
          287,
          137,
          137,
          137,
          226,
          357,
          202,
          54,
          54,
          54,
          460,
          460,
          425,
          425,
          30,
          30,
          30,
          288,
          652,
          595,
          1220,
          1501.9,
          1926,
          1170,
          1381.7,
          1805,
          1111,
          1111,
          1102.4,
          1353,
          384.4,
          992,
          0,
          275,
          734,
          288,
          652,
          623,
          1505,
          139,
          556,
          1179,
          78,
          385,
          1179,
          78,
          385,
          3775.9,
          3594.2,
          341,
          288,
          595,
          2104,
          1914,
          1597,
          1481,
          562,
          1324,
          571,
          1192,
          1,
          1,
          277,
          934,
          805,
          2174,
          540,
          1610,
          495,
          1348,
          552,
          1268,
          307,
          111,
          83,
          88,
          54,
          552,
          11179,
          758,
          11179,
          315,
          182.44044,
          275,
          261,
          276,
          689,
          684,
          684,
          717,
          60,
          36,
          57,
          752,
          801,
          735,
          640,
          1303,
          1048,
          1303,
          1048,
          778,
          677,
          484,
          329,
          462,
          81,
          101,
          65,
          56,
          60,
          60,
          65,
          60,
          60,
          21,
          14,
          14,
          33,
          17,
          29,
          11.59,
          9.01,
          9.01,
          24.81,
          13.56,
          35.71,
          11.59,
          11.59,
          16.7,
          24.15,
          13.73,
          33.59,
          11.63,
          11.63,
          16.55,
          0,
          0,
          0,
          0,
          0,
          0,
          0,
          0,
          0,
          0,
          0,
          0,
          0,
          0,
          0,
          0,
          0,
          0,
          0,
          0,
          0,
          0,
          0,
          0,
          0,
          0,
          0,
          0,
          0,
          0,
          0,
          0,
          0,
          0,
          0,
          0,
          0,
          0,
          0,
          0,
          0,
          0,
          0,
          0.0013388249936463251,
          0,
          0,
          0,
          0,
          549,
          486,
          486,
          424,
          600,
          534,
          534,
          468,
          451,
          4.721385343975438,
          600,
          534,
          534,
          468,
          4.721385343975438,
          501,
          449,
          351,
          337,
          277,
          277,
          277,
          277
         ],
         "x0": " ",
         "xaxis": "x",
         "y": [
          "TF",
          "TF",
          "MTF",
          "MTF",
          "MTF",
          "MTF",
          "MTF",
          "MTF",
          "MTF",
          "MTF",
          "MTF",
          "MTF",
          "MTF",
          "MTF",
          "MTF",
          "MTF",
          "MTF",
          "MTF",
          "MTF",
          "MTF",
          "MTF",
          "MTF",
          "MTF",
          "MTF",
          "MTF",
          "MTF",
          "MTF",
          "MTF",
          "MTF",
          "MTF",
          "MTF",
          "MTF",
          "MTF",
          "MTF",
          "MTF",
          "MTF",
          "MTF",
          "MTF",
          "MTF",
          "MTF",
          "MTF",
          "MTF",
          "MTF",
          "MTF",
          "MTF",
          "MTF",
          "MTF",
          "MTF",
          "MTF",
          "MTF",
          "MTF",
          "MTF",
          "MTF",
          "MTF",
          "MTF",
          "MTF",
          "MTF",
          "MTF",
          "MTF",
          "MTF",
          "TF",
          "TF",
          "TF",
          "TF",
          "TF",
          "TF",
          "TF",
          "TF",
          "TF",
          "TF",
          "TF",
          "TF",
          "TF",
          "TF",
          "TF",
          "TF",
          "TF",
          "TF",
          "TF",
          "TF",
          "TF",
          "TF",
          "TF",
          "TF",
          "TF",
          "TF",
          "TF",
          "TF",
          "TF",
          "TF",
          "TF",
          "TF",
          "TF",
          "TF",
          "TF",
          "TF",
          "TF",
          "TF",
          "TF",
          "TF",
          "TF",
          "TF",
          "MTF",
          "MTF",
          "MTF",
          "MTF",
          "MTF",
          "MTF",
          "TF",
          "TF",
          "TF",
          "TF",
          "TF",
          "TF",
          "TF",
          "TF",
          "TF",
          "TF",
          "TF",
          "TF",
          "TF",
          "TF",
          "TF",
          "TF",
          "TF",
          "TF",
          "TF",
          "TF",
          "TF",
          "TF",
          "TF",
          "TF",
          "TF",
          "TF",
          "TF",
          "TF",
          "TF",
          "TF",
          "TF",
          "TF",
          "TF",
          "TF",
          "TF",
          "TF",
          "TF",
          "TF",
          "TF",
          "TF",
          "TF",
          "TF",
          "TF",
          "TF",
          "TF",
          "TF",
          "TF",
          "TF",
          "TF",
          "TF",
          "TF",
          "TF",
          "TF",
          "TF",
          "TF",
          "TF",
          "TF",
          "TF",
          "TF",
          "TF",
          "TF",
          "TF",
          "TF",
          "TF",
          "TF",
          "TF",
          "TF",
          "TF",
          "TF",
          "TF",
          "TF",
          "TF",
          "TF",
          "TF",
          "TF",
          "TF",
          "TF",
          "TF",
          "TF",
          "TF",
          "TF",
          "TF",
          "TF",
          "TF",
          "TF",
          "TF",
          "TF",
          "TF",
          "TF",
          "TF",
          "TF",
          "TF",
          "TF",
          "TF",
          "TF",
          "TF",
          "TF",
          "TF",
          "TF",
          "TF",
          "TF",
          "TF",
          "TF",
          "TF",
          "TF",
          "TF",
          "TF",
          "TF",
          "TF",
          "TF",
          "TF",
          "TF",
          "TF",
          "TF",
          "TF",
          "TF",
          "TF",
          "TF",
          "TF",
          "TF",
          "TF",
          "TF",
          "TF",
          "TF",
          "TF",
          "TF",
          "TF",
          "TF",
          "TF",
          "TF",
          "TF",
          "TF",
          "TF",
          "TF",
          "TF",
          "TF",
          "TF",
          "TF",
          "TF",
          "TF",
          "TF",
          "TF",
          "TF",
          "TF",
          "TF",
          "TF",
          "TF",
          "TF",
          "TF",
          "TF",
          "TF",
          "TF",
          "TF",
          "TF",
          "TF",
          "TF",
          "TF",
          "TF",
          "TF",
          "TF",
          "TF",
          "TF",
          "TF",
          "TF",
          "TF",
          "TF",
          "TF",
          "TF",
          "TF",
          "TF",
          "TF",
          "TF",
          "TF",
          "TF",
          "TF",
          "TF",
          "TF",
          "TF",
          "TF",
          "TF",
          "TF",
          "TF",
          "TF",
          "TF",
          "TF",
          "TF",
          "TF",
          "TF",
          "TF",
          "TF",
          "TF",
          "TF",
          "TF",
          "TF",
          "TF",
          "TF",
          "TF",
          "TF",
          "TF",
          "TF",
          "TF",
          "TF",
          "TF",
          "TF",
          "TF",
          "TF",
          "TF",
          "TF",
          "TF",
          "TF",
          "TF",
          "TF",
          "TF",
          "TF",
          "TF",
          "TF",
          "TF",
          "TF",
          "TF",
          "TF",
          "TF",
          "TF",
          "TF",
          "TF",
          "TF",
          "TF",
          "TF",
          "TF",
          "TF",
          "TF",
          "TF",
          "TF",
          "TF",
          "TF",
          "TF",
          "TF",
          "TF",
          "TF",
          "TF",
          "TF",
          "TF",
          "TF",
          "TF",
          "TF",
          "TF",
          "TF",
          "TF",
          "TF",
          "TF",
          "TF",
          "TF",
          "TF",
          "TF",
          "TF",
          "TF",
          "TF",
          "TF",
          "TF",
          "TF",
          "TF",
          "TF",
          "TF",
          "TF",
          "TF",
          "TF",
          "TF",
          "TF",
          "TF",
          "TF",
          "TF",
          "TF",
          "TF",
          "TF",
          "TF",
          "TF",
          "TF",
          "TF",
          "TF",
          "TF",
          "TF",
          "TF",
          "TF",
          "TF",
          "TF",
          "TF",
          "TF",
          "TF",
          "TF",
          "TF",
          "TF",
          "TF",
          "TF",
          "TF",
          "TF",
          "TF",
          "TF",
          "TF",
          "TF",
          "TF",
          "TF",
          "TF",
          "TF",
          "TF",
          "TF",
          "TF",
          "TF",
          "TF",
          "TF",
          "TF",
          "TF",
          "MTF",
          "TF",
          "MTF",
          "MTF",
          "MTF",
          "MTF",
          "MTF",
          "MTF",
          "MTF",
          "MTF",
          "MTF",
          "MTF",
          "MTF",
          "MTF",
          "MTF",
          "MTF",
          "MTF",
          "MTF",
          "MTF",
          "MTF",
          "MTF",
          "MTF",
          "MTF",
          "MTF",
          "MTF",
          "MTF",
          "MTF",
          "MTF",
          "MTF",
          "MTF",
          "MTF",
          "MTF",
          "MTF",
          "MTF",
          "MTF",
          "MTF",
          "MTF",
          "MTF",
          "MTF",
          "MTF",
          "MTF",
          "MTF",
          "MTF",
          "MTF",
          "MTF",
          "MTF",
          "MTF",
          "MTF",
          "MTF",
          "MTF",
          "TF",
          "TF",
          "TF",
          "TF",
          "TF",
          "MTF",
          "MTF",
          "MTF",
          "MTF",
          "MTF",
          "MTF",
          "MTF",
          "MTF",
          "MTF",
          "MTF",
          "MTF",
          "MTF",
          "MTF",
          "MTF",
          "MTF",
          "MTF",
          "MTF",
          "MTF",
          "MTF",
          "MTF",
          "MTF",
          "TF",
          "TF",
          "TF",
          "TF",
          "TF",
          "TF",
          "TF",
          "TF",
          "TF",
          "TF",
          "TF",
          "TF",
          "TF",
          "TF",
          "TF",
          "TF",
          "TF",
          "TF",
          "TF",
          "TF",
          "TF",
          "TF",
          "MTF",
          "MTF",
          "TF",
          "TF",
          "TF",
          "TF",
          "TF",
          "TF",
          "TF",
          "TF",
          "TF",
          "TF",
          "TF",
          "TF",
          "TF",
          "TF",
          "TF",
          "TF",
          "TF",
          "TF",
          "TF",
          "TF",
          "TF",
          "TF",
          "TF",
          "TF",
          "TF",
          "TF",
          "TF",
          "TF",
          "TF",
          "TF",
          "TF",
          "TF",
          "TF",
          "TF",
          "TF",
          "TF",
          "TF",
          "TF",
          "TF",
          "TF",
          "TF",
          "TF",
          "TF",
          "TF",
          "TF",
          "TF",
          "TF",
          "TF",
          "TF",
          "TF",
          "TF",
          "TF",
          "TF",
          "TF",
          "TF",
          "TF",
          "TF",
          "TF",
          "TF",
          "TF",
          "TF",
          "TF",
          "TF",
          "TF",
          "TF",
          "TF",
          "TF",
          "TF",
          "TF",
          "TF",
          "TF",
          "TF",
          "TF",
          "TF",
          "TF",
          "TF",
          "TF",
          "TF",
          "TF",
          "MTF",
          "MTF",
          "MTF",
          "MTF",
          "MTF",
          "TF",
          "MTF",
          "MTF",
          "MTF",
          "MTF",
          "MTF",
          "MTF",
          "MTF",
          "MTF",
          "MTF",
          "MTF",
          "MTF",
          "MTF",
          "TF",
          "TF",
          "TF",
          "TF",
          "TF",
          "TF",
          "TF",
          "TF",
          "TF",
          "TF",
          "TF",
          "TF",
          "TF",
          "TF",
          "TF",
          "TF",
          "TF",
          "TF",
          "TF",
          "TF",
          "TF",
          "TF",
          "TF",
          "TF",
          "TF",
          "TF",
          "TF",
          "TF",
          "TF",
          "TF",
          "TF",
          "TF",
          "TF",
          "TF",
          "TF",
          "TF",
          "TF",
          "TF",
          "TF",
          "TF",
          "TF",
          "TF",
          "TF",
          "MTF",
          "MTF",
          "TF",
          "TF",
          "TF",
          "MTF",
          "MTF",
          "MTF",
          "MTF",
          "MTF",
          "TF",
          "MTF",
          "MTF",
          "MTF",
          "MTF",
          "MTF",
          "MTF",
          "MTF",
          "MTF",
          "MTF",
          "MTF",
          "MTF",
          "MTF",
          "MTF",
          "MTF",
          "MTF",
          "MTF",
          "MTF",
          "MTF",
          "MTF",
          "TF",
          "TF",
          "TF",
          "MTF",
          "MTF",
          "MTF",
          "MTF",
          "MTF",
          "MTF",
          "MTF",
          "MTF",
          "TF",
          "TF",
          "TF",
          "TF",
          "TF",
          "TF",
          "TF",
          "TF",
          "TF",
          "TF",
          "TF",
          "TF",
          "TF",
          "TF",
          "TF",
          "TF",
          "TF",
          "TF",
          "TF",
          "TF",
          "TF",
          "TF",
          "TF",
          "TF",
          "TF",
          "TF",
          "TF",
          "TF",
          "TF",
          "TF",
          "TF",
          "TF",
          "TF",
          "TF",
          "TF",
          "TF",
          "TF",
          "TF",
          "TF",
          "TF",
          "TF",
          "TF",
          "TF",
          "TF",
          "TF",
          "TF",
          "TF",
          "TF",
          "TF",
          "TF",
          "TF",
          "TF",
          "TF",
          "TF",
          "TF",
          "TF",
          "TF",
          "TF",
          "TF",
          "TF",
          "TF",
          "TF",
          "TF",
          "TF",
          "TF",
          "TF",
          "TF",
          "TF",
          "TF",
          "TF",
          "TF",
          "TF",
          "TF",
          "TF",
          "TF",
          "TF",
          "TF",
          "TF",
          "TF",
          "TF",
          "TF",
          "TF",
          "TF",
          "TF",
          "TF",
          "TF",
          "TF",
          "TF",
          "TF",
          "TF",
          "TF",
          "TF",
          "TF",
          "TF",
          "TF",
          "TF",
          "TF",
          "TF",
          "TF",
          "TF",
          "TF",
          "TF",
          "TF",
          "TF",
          "TF",
          "TF"
         ],
         "y0": " ",
         "yaxis": "y"
        }
       ],
       "layout": {
        "boxmode": "group",
        "legend": {
         "tracegroupgap": 0
        },
        "margin": {
         "t": 60
        },
        "template": {
         "data": {
          "bar": [
           {
            "error_x": {
             "color": "#2a3f5f"
            },
            "error_y": {
             "color": "#2a3f5f"
            },
            "marker": {
             "line": {
              "color": "#E5ECF6",
              "width": 0.5
             },
             "pattern": {
              "fillmode": "overlay",
              "size": 10,
              "solidity": 0.2
             }
            },
            "type": "bar"
           }
          ],
          "barpolar": [
           {
            "marker": {
             "line": {
              "color": "#E5ECF6",
              "width": 0.5
             },
             "pattern": {
              "fillmode": "overlay",
              "size": 10,
              "solidity": 0.2
             }
            },
            "type": "barpolar"
           }
          ],
          "carpet": [
           {
            "aaxis": {
             "endlinecolor": "#2a3f5f",
             "gridcolor": "white",
             "linecolor": "white",
             "minorgridcolor": "white",
             "startlinecolor": "#2a3f5f"
            },
            "baxis": {
             "endlinecolor": "#2a3f5f",
             "gridcolor": "white",
             "linecolor": "white",
             "minorgridcolor": "white",
             "startlinecolor": "#2a3f5f"
            },
            "type": "carpet"
           }
          ],
          "choropleth": [
           {
            "colorbar": {
             "outlinewidth": 0,
             "ticks": ""
            },
            "type": "choropleth"
           }
          ],
          "contour": [
           {
            "colorbar": {
             "outlinewidth": 0,
             "ticks": ""
            },
            "colorscale": [
             [
              0,
              "#0d0887"
             ],
             [
              0.1111111111111111,
              "#46039f"
             ],
             [
              0.2222222222222222,
              "#7201a8"
             ],
             [
              0.3333333333333333,
              "#9c179e"
             ],
             [
              0.4444444444444444,
              "#bd3786"
             ],
             [
              0.5555555555555556,
              "#d8576b"
             ],
             [
              0.6666666666666666,
              "#ed7953"
             ],
             [
              0.7777777777777778,
              "#fb9f3a"
             ],
             [
              0.8888888888888888,
              "#fdca26"
             ],
             [
              1,
              "#f0f921"
             ]
            ],
            "type": "contour"
           }
          ],
          "contourcarpet": [
           {
            "colorbar": {
             "outlinewidth": 0,
             "ticks": ""
            },
            "type": "contourcarpet"
           }
          ],
          "heatmap": [
           {
            "colorbar": {
             "outlinewidth": 0,
             "ticks": ""
            },
            "colorscale": [
             [
              0,
              "#0d0887"
             ],
             [
              0.1111111111111111,
              "#46039f"
             ],
             [
              0.2222222222222222,
              "#7201a8"
             ],
             [
              0.3333333333333333,
              "#9c179e"
             ],
             [
              0.4444444444444444,
              "#bd3786"
             ],
             [
              0.5555555555555556,
              "#d8576b"
             ],
             [
              0.6666666666666666,
              "#ed7953"
             ],
             [
              0.7777777777777778,
              "#fb9f3a"
             ],
             [
              0.8888888888888888,
              "#fdca26"
             ],
             [
              1,
              "#f0f921"
             ]
            ],
            "type": "heatmap"
           }
          ],
          "heatmapgl": [
           {
            "colorbar": {
             "outlinewidth": 0,
             "ticks": ""
            },
            "colorscale": [
             [
              0,
              "#0d0887"
             ],
             [
              0.1111111111111111,
              "#46039f"
             ],
             [
              0.2222222222222222,
              "#7201a8"
             ],
             [
              0.3333333333333333,
              "#9c179e"
             ],
             [
              0.4444444444444444,
              "#bd3786"
             ],
             [
              0.5555555555555556,
              "#d8576b"
             ],
             [
              0.6666666666666666,
              "#ed7953"
             ],
             [
              0.7777777777777778,
              "#fb9f3a"
             ],
             [
              0.8888888888888888,
              "#fdca26"
             ],
             [
              1,
              "#f0f921"
             ]
            ],
            "type": "heatmapgl"
           }
          ],
          "histogram": [
           {
            "marker": {
             "pattern": {
              "fillmode": "overlay",
              "size": 10,
              "solidity": 0.2
             }
            },
            "type": "histogram"
           }
          ],
          "histogram2d": [
           {
            "colorbar": {
             "outlinewidth": 0,
             "ticks": ""
            },
            "colorscale": [
             [
              0,
              "#0d0887"
             ],
             [
              0.1111111111111111,
              "#46039f"
             ],
             [
              0.2222222222222222,
              "#7201a8"
             ],
             [
              0.3333333333333333,
              "#9c179e"
             ],
             [
              0.4444444444444444,
              "#bd3786"
             ],
             [
              0.5555555555555556,
              "#d8576b"
             ],
             [
              0.6666666666666666,
              "#ed7953"
             ],
             [
              0.7777777777777778,
              "#fb9f3a"
             ],
             [
              0.8888888888888888,
              "#fdca26"
             ],
             [
              1,
              "#f0f921"
             ]
            ],
            "type": "histogram2d"
           }
          ],
          "histogram2dcontour": [
           {
            "colorbar": {
             "outlinewidth": 0,
             "ticks": ""
            },
            "colorscale": [
             [
              0,
              "#0d0887"
             ],
             [
              0.1111111111111111,
              "#46039f"
             ],
             [
              0.2222222222222222,
              "#7201a8"
             ],
             [
              0.3333333333333333,
              "#9c179e"
             ],
             [
              0.4444444444444444,
              "#bd3786"
             ],
             [
              0.5555555555555556,
              "#d8576b"
             ],
             [
              0.6666666666666666,
              "#ed7953"
             ],
             [
              0.7777777777777778,
              "#fb9f3a"
             ],
             [
              0.8888888888888888,
              "#fdca26"
             ],
             [
              1,
              "#f0f921"
             ]
            ],
            "type": "histogram2dcontour"
           }
          ],
          "mesh3d": [
           {
            "colorbar": {
             "outlinewidth": 0,
             "ticks": ""
            },
            "type": "mesh3d"
           }
          ],
          "parcoords": [
           {
            "line": {
             "colorbar": {
              "outlinewidth": 0,
              "ticks": ""
             }
            },
            "type": "parcoords"
           }
          ],
          "pie": [
           {
            "automargin": true,
            "type": "pie"
           }
          ],
          "scatter": [
           {
            "fillpattern": {
             "fillmode": "overlay",
             "size": 10,
             "solidity": 0.2
            },
            "type": "scatter"
           }
          ],
          "scatter3d": [
           {
            "line": {
             "colorbar": {
              "outlinewidth": 0,
              "ticks": ""
             }
            },
            "marker": {
             "colorbar": {
              "outlinewidth": 0,
              "ticks": ""
             }
            },
            "type": "scatter3d"
           }
          ],
          "scattercarpet": [
           {
            "marker": {
             "colorbar": {
              "outlinewidth": 0,
              "ticks": ""
             }
            },
            "type": "scattercarpet"
           }
          ],
          "scattergeo": [
           {
            "marker": {
             "colorbar": {
              "outlinewidth": 0,
              "ticks": ""
             }
            },
            "type": "scattergeo"
           }
          ],
          "scattergl": [
           {
            "marker": {
             "colorbar": {
              "outlinewidth": 0,
              "ticks": ""
             }
            },
            "type": "scattergl"
           }
          ],
          "scattermapbox": [
           {
            "marker": {
             "colorbar": {
              "outlinewidth": 0,
              "ticks": ""
             }
            },
            "type": "scattermapbox"
           }
          ],
          "scatterpolar": [
           {
            "marker": {
             "colorbar": {
              "outlinewidth": 0,
              "ticks": ""
             }
            },
            "type": "scatterpolar"
           }
          ],
          "scatterpolargl": [
           {
            "marker": {
             "colorbar": {
              "outlinewidth": 0,
              "ticks": ""
             }
            },
            "type": "scatterpolargl"
           }
          ],
          "scatterternary": [
           {
            "marker": {
             "colorbar": {
              "outlinewidth": 0,
              "ticks": ""
             }
            },
            "type": "scatterternary"
           }
          ],
          "surface": [
           {
            "colorbar": {
             "outlinewidth": 0,
             "ticks": ""
            },
            "colorscale": [
             [
              0,
              "#0d0887"
             ],
             [
              0.1111111111111111,
              "#46039f"
             ],
             [
              0.2222222222222222,
              "#7201a8"
             ],
             [
              0.3333333333333333,
              "#9c179e"
             ],
             [
              0.4444444444444444,
              "#bd3786"
             ],
             [
              0.5555555555555556,
              "#d8576b"
             ],
             [
              0.6666666666666666,
              "#ed7953"
             ],
             [
              0.7777777777777778,
              "#fb9f3a"
             ],
             [
              0.8888888888888888,
              "#fdca26"
             ],
             [
              1,
              "#f0f921"
             ]
            ],
            "type": "surface"
           }
          ],
          "table": [
           {
            "cells": {
             "fill": {
              "color": "#EBF0F8"
             },
             "line": {
              "color": "white"
             }
            },
            "header": {
             "fill": {
              "color": "#C8D4E3"
             },
             "line": {
              "color": "white"
             }
            },
            "type": "table"
           }
          ]
         },
         "layout": {
          "annotationdefaults": {
           "arrowcolor": "#2a3f5f",
           "arrowhead": 0,
           "arrowwidth": 1
          },
          "autotypenumbers": "strict",
          "coloraxis": {
           "colorbar": {
            "outlinewidth": 0,
            "ticks": ""
           }
          },
          "colorscale": {
           "diverging": [
            [
             0,
             "#8e0152"
            ],
            [
             0.1,
             "#c51b7d"
            ],
            [
             0.2,
             "#de77ae"
            ],
            [
             0.3,
             "#f1b6da"
            ],
            [
             0.4,
             "#fde0ef"
            ],
            [
             0.5,
             "#f7f7f7"
            ],
            [
             0.6,
             "#e6f5d0"
            ],
            [
             0.7,
             "#b8e186"
            ],
            [
             0.8,
             "#7fbc41"
            ],
            [
             0.9,
             "#4d9221"
            ],
            [
             1,
             "#276419"
            ]
           ],
           "sequential": [
            [
             0,
             "#0d0887"
            ],
            [
             0.1111111111111111,
             "#46039f"
            ],
            [
             0.2222222222222222,
             "#7201a8"
            ],
            [
             0.3333333333333333,
             "#9c179e"
            ],
            [
             0.4444444444444444,
             "#bd3786"
            ],
            [
             0.5555555555555556,
             "#d8576b"
            ],
            [
             0.6666666666666666,
             "#ed7953"
            ],
            [
             0.7777777777777778,
             "#fb9f3a"
            ],
            [
             0.8888888888888888,
             "#fdca26"
            ],
            [
             1,
             "#f0f921"
            ]
           ],
           "sequentialminus": [
            [
             0,
             "#0d0887"
            ],
            [
             0.1111111111111111,
             "#46039f"
            ],
            [
             0.2222222222222222,
             "#7201a8"
            ],
            [
             0.3333333333333333,
             "#9c179e"
            ],
            [
             0.4444444444444444,
             "#bd3786"
            ],
            [
             0.5555555555555556,
             "#d8576b"
            ],
            [
             0.6666666666666666,
             "#ed7953"
            ],
            [
             0.7777777777777778,
             "#fb9f3a"
            ],
            [
             0.8888888888888888,
             "#fdca26"
            ],
            [
             1,
             "#f0f921"
            ]
           ]
          },
          "colorway": [
           "#636efa",
           "#EF553B",
           "#00cc96",
           "#ab63fa",
           "#FFA15A",
           "#19d3f3",
           "#FF6692",
           "#B6E880",
           "#FF97FF",
           "#FECB52"
          ],
          "font": {
           "color": "#2a3f5f"
          },
          "geo": {
           "bgcolor": "white",
           "lakecolor": "white",
           "landcolor": "#E5ECF6",
           "showlakes": true,
           "showland": true,
           "subunitcolor": "white"
          },
          "hoverlabel": {
           "align": "left"
          },
          "hovermode": "closest",
          "mapbox": {
           "style": "light"
          },
          "paper_bgcolor": "white",
          "plot_bgcolor": "#E5ECF6",
          "polar": {
           "angularaxis": {
            "gridcolor": "white",
            "linecolor": "white",
            "ticks": ""
           },
           "bgcolor": "#E5ECF6",
           "radialaxis": {
            "gridcolor": "white",
            "linecolor": "white",
            "ticks": ""
           }
          },
          "scene": {
           "xaxis": {
            "backgroundcolor": "#E5ECF6",
            "gridcolor": "white",
            "gridwidth": 2,
            "linecolor": "white",
            "showbackground": true,
            "ticks": "",
            "zerolinecolor": "white"
           },
           "yaxis": {
            "backgroundcolor": "#E5ECF6",
            "gridcolor": "white",
            "gridwidth": 2,
            "linecolor": "white",
            "showbackground": true,
            "ticks": "",
            "zerolinecolor": "white"
           },
           "zaxis": {
            "backgroundcolor": "#E5ECF6",
            "gridcolor": "white",
            "gridwidth": 2,
            "linecolor": "white",
            "showbackground": true,
            "ticks": "",
            "zerolinecolor": "white"
           }
          },
          "shapedefaults": {
           "line": {
            "color": "#2a3f5f"
           }
          },
          "ternary": {
           "aaxis": {
            "gridcolor": "white",
            "linecolor": "white",
            "ticks": ""
           },
           "baxis": {
            "gridcolor": "white",
            "linecolor": "white",
            "ticks": ""
           },
           "bgcolor": "#E5ECF6",
           "caxis": {
            "gridcolor": "white",
            "linecolor": "white",
            "ticks": ""
           }
          },
          "title": {
           "x": 0.05
          },
          "xaxis": {
           "automargin": true,
           "gridcolor": "white",
           "linecolor": "white",
           "ticks": "",
           "title": {
            "standoff": 15
           },
           "zerolinecolor": "white",
           "zerolinewidth": 2
          },
          "yaxis": {
           "automargin": true,
           "gridcolor": "white",
           "linecolor": "white",
           "ticks": "",
           "title": {
            "standoff": 15
           },
           "zerolinecolor": "white",
           "zerolinewidth": 2
          }
         }
        },
        "xaxis": {
         "anchor": "y",
         "domain": [
          0,
          1
         ],
         "title": {
          "text": "HC LTO Total mass (g)"
         }
        },
        "yaxis": {
         "anchor": "x",
         "domain": [
          0,
          1
         ],
         "title": {
          "text": "Eng Type"
         }
        }
       }
      }
     },
     "metadata": {},
     "output_type": "display_data"
    }
   ],
   "source": [
    "fig = px.box(hc_df, x=\"HC LTO Total mass (g)\", y='Eng Type', points=\"outliers\", color_discrete_sequence = ['purple'])\n",
    "fig.show()"
   ]
  },
  {
   "attachments": {},
   "cell_type": "markdown",
   "metadata": {},
   "source": [
    "- look into multiple imputation\n",
    "\n",
    "\n",
    "- try different methods to model each type of emission: try logistic regression, PCA, cluster analysis, non-linear regression(neural network)\n",
    "- plot linear regression model\n",
    "\n",
    "- try diff models for each eng type\n",
    "- try models with/without the outliers and understand the context of what's causing the outliers"
   ]
  },
  {
   "attachments": {},
   "cell_type": "markdown",
   "metadata": {},
   "source": [
    "### LINEAR REGRESSION"
   ]
  },
  {
   "cell_type": "code",
   "execution_count": 25,
   "metadata": {},
   "outputs": [
    {
     "name": "stdout",
     "output_type": "stream",
     "text": [
      "Predicted emissions:\n",
      "Hydrocarbons: -62897.72233031183 g\n",
      "Carbon monoxide: -106757.82189435276 g\n",
      "Oxides of nitrogen: 57976.165701161626 g\n",
      "R-Squared, MSE, and RMSE scores:\n",
      "Hydrocarbons: R-Squared=0.0884, MSE=9368526.4121,RMSE=3060.8049\n",
      "Carbon monoxide: R-Squared=0.2853, MSE=26901314.9322, RMSE=5186.6478\n",
      "Oxides of nitrogen: R-Squared=0.8995, MSE=6864796.1229, RMSE=2620.0756\n"
     ]
    },
    {
     "name": "stderr",
     "output_type": "stream",
     "text": [
      "c:\\Users\\bhakt\\anaconda3\\envs\\name_of_my_env\\lib\\site-packages\\sklearn\\base.py:493: FutureWarning:\n",
      "\n",
      "The feature names should match those that were passed during fit. Starting version 1.2, an error will be raised.\n",
      "Feature names must be in the same order as they were in fit.\n",
      "\n",
      "\n",
      "c:\\Users\\bhakt\\anaconda3\\envs\\name_of_my_env\\lib\\site-packages\\sklearn\\base.py:493: FutureWarning:\n",
      "\n",
      "The feature names should match those that were passed during fit. Starting version 1.2, an error will be raised.\n",
      "Feature names must be in the same order as they were in fit.\n",
      "\n",
      "\n",
      "c:\\Users\\bhakt\\anaconda3\\envs\\name_of_my_env\\lib\\site-packages\\sklearn\\base.py:493: FutureWarning:\n",
      "\n",
      "The feature names should match those that were passed during fit. Starting version 1.2, an error will be raised.\n",
      "Feature names must be in the same order as they were in fit.\n",
      "\n",
      "\n"
     ]
    }
   ],
   "source": [
    "from sklearn.linear_model import LinearRegression\n",
    "from sklearn.preprocessing import LabelEncoder\n",
    "from sklearn.model_selection import train_test_split\n",
    "from sklearn.metrics import mean_squared_error, r2_score\n",
    "from sklearn.pipeline import make_pipeline\n",
    "from sklearn.preprocessing import StandardScaler\n",
    "import numpy as np\n",
    "\n",
    "# Convert the categorical column to numerical values using label encoding\n",
    "le = LabelEncoder()\n",
    "df2['Eng Type'] = le.fit_transform(df2['Eng Type'])\n",
    "\n",
    "# Split the dataset into features (X) and targets (y)\n",
    "X = df2.drop(['HC LTO Total mass (g)', 'CO LTO Total Mass (g)', 'NOx LTO Total mass (g)'], axis=1)\n",
    "y_HC = df2['HC LTO Total mass (g)']\n",
    "y_CO = df2['CO LTO Total Mass (g)']\n",
    "y_NOx = df2['NOx LTO Total mass (g)']\n",
    "\n",
    "# Split the data into training and testing sets\n",
    "X_train, X_test, y_train_HC, y_test_HC, y_train_CO, y_test_CO, y_train_NOx, y_test_NOx = train_test_split(X, y_HC, y_CO, y_NOx, test_size=0.2, random_state=42)\n",
    "\n",
    "# Create pipelines to scale the data and fit the linear regression models for each target variable\n",
    "model_HC = make_pipeline(StandardScaler(), LinearRegression())\n",
    "model_CO = make_pipeline(StandardScaler(), LinearRegression())\n",
    "model_NOx = make_pipeline(StandardScaler(), LinearRegression())\n",
    "\n",
    "# Train the linear regression models\n",
    "model_HC.fit(X_train, y_train_HC)\n",
    "model_CO.fit(X_train, y_train_CO)\n",
    "model_NOx.fit(X_train, y_train_NOx)\n",
    "\n",
    "# Predict the emissions for new data\n",
    "new_data = pd.DataFrame({'B/P Ratio': [4.77], 'Fuel LTO Cycle (kg)': [157], 'Eng Type': [0]})\n",
    "new_data['Eng Type'] = le.transform(new_data['Eng Type'])\n",
    "emissions_HC = model_HC.predict(new_data)\n",
    "emissions_CO = model_CO.predict(new_data)\n",
    "emissions_NOx = model_NOx.predict(new_data)\n",
    "\n",
    "# Print the predicted emissions\n",
    "print(\"Predicted emissions:\")\n",
    "print(f\"Hydrocarbons: {emissions_HC[0]} g\")\n",
    "print(f\"Carbon monoxide: {emissions_CO[0]} g\")\n",
    "print(f\"Oxides of nitrogen: {emissions_NOx[0]} g\")\n",
    "\n",
    "# Evaluate the models on the test set\n",
    "y_pred_HC = model_HC.predict(X_test)\n",
    "score_HC = r2_score(y_test_HC, y_pred_HC)\n",
    "mse_HC = mean_squared_error(y_test_HC, y_pred_HC)\n",
    "rmse_HC = np.sqrt(mse_HC)\n",
    "\n",
    "y_pred_CO = model_CO.predict(X_test)\n",
    "score_CO = r2_score(y_test_CO, y_pred_CO)\n",
    "mse_CO = mean_squared_error(y_test_CO, y_pred_CO)\n",
    "rmse_CO = np.sqrt(mse_CO)\n",
    "\n",
    "y_pred_NOx = model_NOx.predict(X_test)\n",
    "score_NOx = r2_score(y_test_NOx, y_pred_NOx)\n",
    "mse_NOx = mean_squared_error(y_test_NOx, y_pred_NOx)\n",
    "rmse_NOx = np.sqrt(mse_NOx)\n",
    "\n",
    "print(\"R-Squared, MSE, and RMSE scores:\")\n",
    "print(f\"Hydrocarbons: R-Squared={score_HC:.4f}, MSE={mse_HC:.4f},RMSE={rmse_HC:.4f}\")\n",
    "print(f\"Carbon monoxide: R-Squared={score_CO:.4f}, MSE={mse_CO:.4f}, RMSE={rmse_CO:.4f}\")\n",
    "print(f\"Oxides of nitrogen: R-Squared={score_NOx:.4f}, MSE={mse_NOx:.4f}, RMSE={rmse_NOx:.4f}\")"
   ]
  },
  {
   "attachments": {},
   "cell_type": "markdown",
   "metadata": {},
   "source": [
    "The linear regression model has predicted negative values for both Hydrocarbons and Carbon Monoxide, which is not practical or meaningful. It is possible that the model is overfitting the data. The R-squared values indicate that the model fits the data moderately well for hydrocarbons and carbon monoxide, but very well for oxides of nitrogen. The MSE values indicate that the model is relatively accurate for all three emissions. THE RMSE values are consistent with the MSE scores and indicate that the model is relatively accurate for all three emissions."
   ]
  },
  {
   "cell_type": "code",
   "execution_count": 26,
   "metadata": {},
   "outputs": [
    {
     "data": {
      "image/png": "[encoded data removed]",
      "text/plain": [
       "<Figure size 432x288 with 1 Axes>"
      ]
     },
     "metadata": {
      "needs_background": "light"
     },
     "output_type": "display_data"
    },
    {
     "data": {
      "image/png": "[encoded data removed]",
      "text/plain": [
       "<Figure size 432x288 with 1 Axes>"
      ]
     },
     "metadata": {
      "needs_background": "light"
     },
     "output_type": "display_data"
    },
    {
     "data": {
      "image/png": "[encoded data removed]",
      "text/plain": [
       "<Figure size 432x288 with 1 Axes>"
      ]
     },
     "metadata": {
      "needs_background": "light"
     },
     "output_type": "display_data"
    }
   ],
   "source": [
    "import matplotlib.pyplot as plt\n",
    "\n",
    "# Scatter plot for Hydrocarbons\n",
    "plt.plot(y_test_HC, y_test_HC, color='red')\n",
    "\n",
    "plt.scatter(y_test_HC, y_pred_HC)\n",
    "plt.xlabel('Actual HC LTO Total mass (g)')\n",
    "plt.ylabel('Predicted HC LTO Total mass (g)')\n",
    "plt.title('Linear Regression Model for HC')\n",
    "plt.show()\n",
    "\n",
    "# Scatter plot for Carbon monoxide\n",
    "plt.plot(y_test_CO, y_test_CO, color='red')\n",
    "\n",
    "plt.scatter(y_test_CO, y_pred_CO)\n",
    "plt.xlabel('Actual CO LTO Total mass (g)')\n",
    "plt.ylabel('Predicted CO LTO Total mass (g)')\n",
    "plt.title('Linear Regression Model for CO')\n",
    "plt.show()\n",
    "\n",
    "# Scatter plot for Oxides of nitrogen\n",
    "plt.plot(y_test_NOx, y_test_NOx, color='red')\n",
    "\n",
    "plt.scatter(y_test_NOx, y_pred_NOx)\n",
    "plt.xlabel('Actual NOx LTO Total mass (g)')\n",
    "plt.ylabel('Predicted NOx LTO Total mass (g)')\n",
    "plt.title('Linear Regression Model for NOx')\n",
    "plt.show()\n"
   ]
  },
  {
   "cell_type": "code",
   "execution_count": 27,
   "metadata": {},
   "outputs": [
    {
     "data": {
      "image/png": "[encoded data removed]",
      "text/plain": [
       "<Figure size 1080x360 with 3 Axes>"
      ]
     },
     "metadata": {
      "needs_background": "light"
     },
     "output_type": "display_data"
    }
   ],
   "source": [
    "import matplotlib.pyplot as plt\n",
    "\n",
    "# Set up the figure and axes\n",
    "fig, axes = plt.subplots(1, 3, figsize=(15, 5))\n",
    "\n",
    "# Plot 1 - HC\n",
    "axes[0].plot(y_test_HC, y_test_HC, color='red')\n",
    "axes[0].scatter(y_test_HC, y_pred_HC)\n",
    "axes[0].set_xlabel('Actual HC LTO Total mass (g)')\n",
    "axes[0].set_ylabel('Predicted HC LTO Total mass (g)')\n",
    "axes[0].set_title('Linear Regression Model for HC')\n",
    "\n",
    "# Plot 2 - CO\n",
    "axes[1].plot(y_test_CO, y_test_CO, color='red')\n",
    "axes[1].scatter(y_test_CO, y_pred_CO)\n",
    "axes[1].set_xlabel('Actual CO LTO Total mass (g)')\n",
    "axes[1].set_ylabel('Predicted CO LTO Total mass (g)')\n",
    "axes[1].set_title('Linear Regression Model for CO')\n",
    "\n",
    "# Plot 3 - NOX\n",
    "axes[2].plot(y_test_NOx, y_test_NOx, color='red')\n",
    "axes[2].scatter(y_test_NOx, y_pred_NOx)\n",
    "axes[2].set_xlabel('Actual NOx LTO Total mass (g)')\n",
    "axes[2].set_ylabel('Predicted NOx LTO Total mass (g)')\n",
    "axes[2].set_title('Linear Regression Model for NOx')\n",
    "\n",
    "plt.tight_layout()\n",
    "plt.show()\n"
   ]
  },
  {
   "attachments": {},
   "cell_type": "markdown",
   "metadata": {},
   "source": [
    "### RANDOM FOREST REGRESSION"
   ]
  },
  {
   "cell_type": "code",
   "execution_count": 28,
   "metadata": {},
   "outputs": [
    {
     "name": "stdout",
     "output_type": "stream",
     "text": [
      "Predicted emissions:\n",
      "Hydrocarbons: 152.86695752437757 g\n",
      "Carbon monoxide: 3948.6696159107164 g\n",
      "Oxides of nitrogen: 8800.07 g\n",
      "R-Squared, MSE, and RMSE scores:\n",
      "Hydrocarbons: R-Squared=-0.2069, MSE=12403672.2652,RMSE=3521.8848\n",
      "Carbon monoxide: R-Squared=0.3249, MSE=25411687.3803, RMSE=5041.0006\n",
      "Oxides of nitrogen: R-Squared=0.9746, MSE=1732705.2943, RMSE=1316.3226\n"
     ]
    },
    {
     "name": "stderr",
     "output_type": "stream",
     "text": [
      "c:\\Users\\bhakt\\anaconda3\\envs\\name_of_my_env\\lib\\site-packages\\sklearn\\base.py:493: FutureWarning:\n",
      "\n",
      "The feature names should match those that were passed during fit. Starting version 1.2, an error will be raised.\n",
      "Feature names must be in the same order as they were in fit.\n",
      "\n",
      "\n",
      "c:\\Users\\bhakt\\anaconda3\\envs\\name_of_my_env\\lib\\site-packages\\sklearn\\base.py:493: FutureWarning:\n",
      "\n",
      "The feature names should match those that were passed during fit. Starting version 1.2, an error will be raised.\n",
      "Feature names must be in the same order as they were in fit.\n",
      "\n",
      "\n",
      "c:\\Users\\bhakt\\anaconda3\\envs\\name_of_my_env\\lib\\site-packages\\sklearn\\base.py:493: FutureWarning:\n",
      "\n",
      "The feature names should match those that were passed during fit. Starting version 1.2, an error will be raised.\n",
      "Feature names must be in the same order as they were in fit.\n",
      "\n",
      "\n"
     ]
    }
   ],
   "source": [
    "from sklearn.ensemble import RandomForestRegressor\n",
    "from sklearn.preprocessing import LabelEncoder\n",
    "from sklearn.model_selection import train_test_split\n",
    "from sklearn.metrics import mean_squared_error, r2_score\n",
    "from sklearn.pipeline import make_pipeline\n",
    "from sklearn.preprocessing import StandardScaler\n",
    "import numpy as np\n",
    "\n",
    "# Convert the categorical column to numerical values using label encoding\n",
    "le = LabelEncoder()\n",
    "df2['Eng Type'] = le.fit_transform(df2['Eng Type'])\n",
    "\n",
    "# Split the dataset into features (X) and targets (y)\n",
    "X = df2.drop(['HC LTO Total mass (g)', 'CO LTO Total Mass (g)', 'NOx LTO Total mass (g)'], axis=1)\n",
    "y_HC = df2['HC LTO Total mass (g)']\n",
    "y_CO = df2['CO LTO Total Mass (g)']\n",
    "y_NOx = df2['NOx LTO Total mass (g)']\n",
    "\n",
    "# Split the data into training and testing sets\n",
    "X_train, X_test, y_train_HC, y_test_HC, y_train_CO, y_test_CO, y_train_NOx, y_test_NOx = train_test_split(X, y_HC, y_CO, y_NOx, test_size=0.2, random_state=42)\n",
    "\n",
    "# Create pipelines to scale the data and fit the Random Forest models for each target variable\n",
    "model_HC = make_pipeline(StandardScaler(), RandomForestRegressor(n_estimators=100, random_state=42))\n",
    "model_CO = make_pipeline(StandardScaler(), RandomForestRegressor(n_estimators=100, random_state=42))\n",
    "model_NOx = make_pipeline(StandardScaler(), RandomForestRegressor(n_estimators=100, random_state=42))\n",
    "\n",
    "# Train the Random Forest regression models\n",
    "model_HC.fit(X_train, y_train_HC)\n",
    "model_CO.fit(X_train, y_train_CO)\n",
    "model_NOx.fit(X_train, y_train_NOx)\n",
    "\n",
    "# Predict the emissions for new data\n",
    "new_data = pd.DataFrame({'B/P Ratio': [4.77], 'Fuel LTO Cycle (kg)': [157], 'Eng Type': [0]})\n",
    "new_data['Eng Type'] = le.transform(new_data['Eng Type'])\n",
    "emissions_HC = model_HC.predict(new_data)\n",
    "emissions_CO = model_CO.predict(new_data)\n",
    "emissions_NOx = model_NOx.predict(new_data)\n",
    "\n",
    "# Print the predicted emissions\n",
    "print(\"Predicted emissions:\")\n",
    "print(f\"Hydrocarbons: {emissions_HC[0]} g\")\n",
    "print(f\"Carbon monoxide: {emissions_CO[0]} g\")\n",
    "print(f\"Oxides of nitrogen: {emissions_NOx[0]} g\")\n",
    "\n",
    "# Evaluate the models on the test set\n",
    "y_pred_HC = model_HC.predict(X_test)\n",
    "score_HC = r2_score(y_test_HC, y_pred_HC)\n",
    "mse_HC = mean_squared_error(y_test_HC, y_pred_HC)\n",
    "rmse_HC = np.sqrt(mse_HC)\n",
    "\n",
    "y_pred_CO = model_CO.predict(X_test)\n",
    "score_CO = r2_score(y_test_CO, y_pred_CO)\n",
    "mse_CO = mean_squared_error(y_test_CO, y_pred_CO)\n",
    "rmse_CO = np.sqrt(mse_CO)\n",
    "\n",
    "y_pred_NOx = model_NOx.predict(X_test)\n",
    "score_NOx = r2_score(y_test_NOx, y_pred_NOx)\n",
    "mse_NOx = mean_squared_error(y_test_NOx, y_pred_NOx)\n",
    "rmse_NOx = np.sqrt(mse_NOx)\n",
    "\n",
    "print(\"R-Squared, MSE, and RMSE scores:\")\n",
    "print(f\"Hydrocarbons: R-Squared={score_HC:.4f}, MSE={mse_HC:.4f},RMSE={rmse_HC:.4f}\")\n",
    "print(f\"Carbon monoxide: R-Squared={score_CO:.4f}, MSE={mse_CO:.4f}, RMSE={rmse_CO:.4f}\")\n",
    "print(f\"Oxides of nitrogen: R-Squared={score_NOx:.4f}, MSE={mse_NOx:.4f}, RMSE={rmse_NOx:.4f}\")"
   ]
  },
  {
   "cell_type": "code",
   "execution_count": 37,
   "metadata": {},
   "outputs": [
    {
     "data": {
      "image/png": "[encoded data removed]",
      "text/plain": [
       "<Figure size 432x288 with 1 Axes>"
      ]
     },
     "metadata": {
      "needs_background": "light"
     },
     "output_type": "display_data"
    },
    {
     "data": {
      "image/png": "[encoded data removed]",
      "text/plain": [
       "<Figure size 432x288 with 1 Axes>"
      ]
     },
     "metadata": {
      "needs_background": "light"
     },
     "output_type": "display_data"
    },
    {
     "data": {
      "image/png": "[encoded data removed]",
      "text/plain": [
       "<Figure size 432x288 with 1 Axes>"
      ]
     },
     "metadata": {
      "needs_background": "light"
     },
     "output_type": "display_data"
    }
   ],
   "source": [
    "import matplotlib.pyplot as plt\n",
    "\n",
    "# Plot the predicted vs actual values for Hydrocarbons\n",
    "plt.scatter(y_test_HC, y_pred_HC)\n",
    "plt.xlabel(\"Actual HC Emissions (g)\")\n",
    "plt.ylabel(\"Predicted HC Emissions (g)\")\n",
    "plt.title(\"Random Forest Regression Model for HC Emissions\")\n",
    "z = np.polyfit(y_test_HC, y_pred_HC, 1)\n",
    "p = np.poly1d(z)\n",
    "plt.plot(y_test_HC,p(y_test_HC),\"b-\")\n",
    "plt.show()\n",
    "\n",
    "# Plot the predicted vs actual values for Carbon Monoxide\n",
    "plt.scatter(y_test_CO, y_pred_CO)\n",
    "plt.xlabel(\"Actual CO Emissions (g)\")\n",
    "plt.ylabel(\"Predicted CO Emissions (g)\")\n",
    "plt.title(\"Random Forest Regression Model for CO Emissions\")\n",
    "z = np.polyfit(y_test_CO, y_pred_CO, 1)\n",
    "p = np.poly1d(z)\n",
    "plt.plot(y_test_CO,p(y_test_CO),\"b-\")\n",
    "plt.show()\n",
    "\n",
    "# Plot the predicted vs actual values for Oxides of Nitrogen\n",
    "plt.scatter(y_test_NOx, y_pred_NOx)\n",
    "plt.xlabel(\"Actual NOx Emissions (g)\")\n",
    "plt.ylabel(\"Predicted NOx Emissions (g)\")\n",
    "plt.title(\"Random Forest Regression Model for NOx Emissions\")\n",
    "z = np.polyfit(y_test_NOx, y_pred_NOx, 1)\n",
    "p = np.poly1d(z)\n",
    "plt.plot(y_test_NOx,p(y_test_NOx),\"b-\")\n",
    "plt.show()\n"
   ]
  },
  {
   "cell_type": "code",
   "execution_count": 34,
   "metadata": {},
   "outputs": [
    {
     "data": {
      "image/png": "[encoded data removed]",
      "text/plain": [
       "<Figure size 1080x360 with 3 Axes>"
      ]
     },
     "metadata": {
      "needs_background": "light"
     },
     "output_type": "display_data"
    }
   ],
   "source": [
    "import matplotlib.pyplot as plt\n",
    "\n",
    "fig, axes = plt.subplots(1, 3, figsize=(15, 5))\n",
    "\n",
    "# Plot the predicted vs actual values for Hydrocarbons\n",
    "axes[0].scatter(y_test_HC, y_pred_HC)\n",
    "axes[0].set_xlabel(\"Actual HC Emissions (g)\")\n",
    "axes[0].set_ylabel(\"Predicted HC Emissions (g)\")\n",
    "axes[0].set_title(\"Random Forest Regression Model for HC Emissions\")\n",
    "z = np.polyfit(y_test_HC, y_pred_HC, 1)\n",
    "p = np.poly1d(z)\n",
    "axes[0].plot(y_test_HC, p(y_test_HC), \"b--\")\n",
    "\n",
    "# Plot the predicted vs actual values for Carbon Monoxide\n",
    "axes[1].scatter(y_test_CO, y_pred_CO)\n",
    "axes[1].set_xlabel(\"Actual CO Emissions (g)\")\n",
    "axes[1].set_ylabel(\"Predicted CO Emissions (g)\")\n",
    "axes[1].set_title(\"Random Forest Regression Model for CO Emissions\")\n",
    "z = np.polyfit(y_test_CO, y_pred_CO, 1)\n",
    "p = np.poly1d(z)\n",
    "axes[1].plot(y_test_CO, p(y_test_CO), \"b--\")\n",
    "\n",
    "# Plot the predicted vs actual values for Oxides of Nitrogen\n",
    "axes[2].scatter(y_test_NOx, y_pred_NOx)\n",
    "axes[2].set_xlabel(\"Actual NOx Emissions (g)\")\n",
    "axes[2].set_ylabel(\"Predicted NOx Emissions (g)\")\n",
    "axes[2].set_title(\"Random Forest Regression Model for NOx Emissions\")\n",
    "z = np.polyfit(y_test_NOx, y_pred_NOx, 1)\n",
    "p = np.poly1d(z)\n",
    "axes[2].plot(y_test_NOx, p(y_test_NOx), \"b--\")\n",
    "\n",
    "plt.tight_layout()\n",
    "plt.show()\n"
   ]
  },
  {
   "attachments": {},
   "cell_type": "markdown",
   "metadata": {},
   "source": [
    "### Support Vector Machines (SVM)"
   ]
  },
  {
   "cell_type": "code",
   "execution_count": null,
   "metadata": {},
   "outputs": [
    {
     "name": "stdout",
     "output_type": "stream",
     "text": [
      "Predicted emissions:\n",
      "Hydrocarbons: 256.9429778834441 g\n",
      "Carbon monoxide: 4893.56738852046 g\n",
      "Oxides of nitrogen: 6169.258955441997 g\n",
      "R-Squared, MSE, and RMSE scores:\n",
      "Hydrocarbons: R-Squared=-0.0485, MSE=10775969.4269,RMSE=3282.6772\n",
      "Carbon monoxide: R-Squared=-0.0781, MSE=40581184.1632, RMSE=6370.3363\n",
      "Oxides of nitrogen: R-Squared=-0.1206, MSE=76581402.9341, RMSE=8751.0801\n"
     ]
    },
    {
     "name": "stderr",
     "output_type": "stream",
     "text": [
      "c:\\Users\\bhakt\\anaconda3\\envs\\name_of_my_env\\lib\\site-packages\\sklearn\\base.py:493: FutureWarning:\n",
      "\n",
      "The feature names should match those that were passed during fit. Starting version 1.2, an error will be raised.\n",
      "Feature names must be in the same order as they were in fit.\n",
      "\n",
      "\n",
      "c:\\Users\\bhakt\\anaconda3\\envs\\name_of_my_env\\lib\\site-packages\\sklearn\\base.py:493: FutureWarning:\n",
      "\n",
      "The feature names should match those that were passed during fit. Starting version 1.2, an error will be raised.\n",
      "Feature names must be in the same order as they were in fit.\n",
      "\n",
      "\n",
      "c:\\Users\\bhakt\\anaconda3\\envs\\name_of_my_env\\lib\\site-packages\\sklearn\\base.py:493: FutureWarning:\n",
      "\n",
      "The feature names should match those that were passed during fit. Starting version 1.2, an error will be raised.\n",
      "Feature names must be in the same order as they were in fit.\n",
      "\n",
      "\n"
     ]
    }
   ],
   "source": [
    "from sklearn.svm import SVR\n",
    "from sklearn.preprocessing import LabelEncoder\n",
    "from sklearn.model_selection import train_test_split\n",
    "from sklearn.metrics import mean_squared_error, r2_score\n",
    "from sklearn.pipeline import make_pipeline\n",
    "from sklearn.preprocessing import StandardScaler\n",
    "import numpy as np\n",
    "\n",
    "# Convert the categorical column to numerical values using label encoding\n",
    "le = LabelEncoder()\n",
    "df2['Eng Type'] = le.fit_transform(df2['Eng Type'])\n",
    "\n",
    "# Split the dataset into features (X) and targets (y)\n",
    "X = df2.drop(['HC LTO Total mass (g)', 'CO LTO Total Mass (g)', 'NOx LTO Total mass (g)'], axis=1)\n",
    "y_HC = df2['HC LTO Total mass (g)']\n",
    "y_CO = df2['CO LTO Total Mass (g)']\n",
    "y_NOx = df2['NOx LTO Total mass (g)']\n",
    "\n",
    "# Split the data into training and testing sets\n",
    "X_train, X_test, y_train_HC, y_test_HC, y_train_CO, y_test_CO, y_train_NOx, y_test_NOx = train_test_split(X, y_HC, y_CO, y_NOx, test_size=0.2, random_state=42)\n",
    "\n",
    "# Create pipelines to scale the data and fit the SVM models for each target variable\n",
    "model_HC = make_pipeline(StandardScaler(), SVR(kernel='rbf', gamma='auto'))\n",
    "model_CO = make_pipeline(StandardScaler(), SVR(kernel='rbf', gamma='auto'))\n",
    "model_NOx = make_pipeline(StandardScaler(), SVR(kernel='rbf', gamma='auto'))\n",
    "\n",
    "# Train the SVM regression models\n",
    "model_HC.fit(X_train, y_train_HC)\n",
    "model_CO.fit(X_train, y_train_CO)\n",
    "model_NOx.fit(X_train, y_train_NOx)\n",
    "\n",
    "# Predict the emissions for new data\n",
    "new_data = pd.DataFrame({'B/P Ratio': [4.77], 'Fuel LTO Cycle (kg)': [157], 'Eng Type': [0]})\n",
    "new_data['Eng Type'] = le.transform(new_data['Eng Type'])\n",
    "emissions_HC = model_HC.predict(new_data)\n",
    "emissions_CO = model_CO.predict(new_data)\n",
    "emissions_NOx = model_NOx.predict(new_data)\n",
    "\n",
    "# Print the predicted emissions\n",
    "print(\"Predicted emissions:\")\n",
    "print(f\"Hydrocarbons: {emissions_HC[0]} g\")\n",
    "print(f\"Carbon monoxide: {emissions_CO[0]} g\")\n",
    "print(f\"Oxides of nitrogen: {emissions_NOx[0]} g\")\n",
    "\n",
    "# Evaluate the models on the test set\n",
    "y_pred_HC = model_HC.predict(X_test)\n",
    "score_HC = r2_score(y_test_HC, y_pred_HC)\n",
    "mse_HC = mean_squared_error(y_test_HC, y_pred_HC)\n",
    "rmse_HC = np.sqrt(mse_HC)\n",
    "\n",
    "y_pred_CO = model_CO.predict(X_test)\n",
    "score_CO = r2_score(y_test_CO, y_pred_CO)\n",
    "mse_CO = mean_squared_error(y_test_CO, y_pred_CO)\n",
    "rmse_CO = np.sqrt(mse_CO)\n",
    "\n",
    "y_pred_NOx = model_NOx.predict(X_test)\n",
    "score_NOx = r2_score(y_test_NOx, y_pred_NOx)\n",
    "mse_NOx = mean_squared_error(y_test_NOx, y_pred_NOx)\n",
    "rmse_NOx = np.sqrt(mse_NOx)\n",
    "\n",
    "print(\"R-Squared, MSE, and RMSE scores:\")\n",
    "print(f\"Hydrocarbons: R-Squared={score_HC:.4f}, MSE={mse_HC:.4f},RMSE={rmse_HC:.4f}\")\n",
    "print(f\"Carbon monoxide: R-Squared={score_CO:.4f}, MSE={mse_CO:.4f}, RMSE={rmse_CO:.4f}\")\n",
    "print(f\"Oxides of nitrogen: R-Squared={score_NOx:.4f}, MSE={mse_NOx:.4f}, RMSE={rmse_NOx:.4f}\")"
   ]
  },
  {
   "attachments": {},
   "cell_type": "markdown",
   "metadata": {},
   "source": [
    "Based on the output of the three different models, we can see that each model provides different levels of performance.\n",
    "\n",
    "In the case of the linear regression model, we see that the R-squared values range from 0.08 to 0.89, indicating that the model explains between 6% and 89% of the variance in the dependent variables. The MSE and RMSE scores, which measure the average squared difference between the predicted and actual values, are relatively high, indicating that the model has a high degree of error in its predictions.\n",
    "\n",
    "In the case of the random forest model, we see that the R-squared values range from -0.20 to 0.97, indicating that the model does not perform well for the HC prediction, but provides good predictions for the other two emissions. The MSE and RMSE scores are generally lower than those of the linear regression model, indicating that the random forest model has lower error levels in its predictions.\n",
    "\n",
    "Finally, the SVM model performs poorly, with R-squared values ranging from -0.12 to -0.05, indicating that the model is not explaining much of the variance in the dependent variables. The MSE and RMSE scores are high, which confirms that the SVM model is not accurately predicting the dependent variables.\n",
    "\n",
    "Overall, it seems that the random forest model is performing the best out of the three models, as it provides the lowest MSE and RMSE scores and the highest R-squared values for two of the three dependent variables. \n",
    "\n",
    "However, it's important to note that more thorough analysis is required to determine which model is the most suitable for this particular application."
   ]
  },
  {
   "cell_type": "code",
   "execution_count": null,
   "metadata": {},
   "outputs": [
    {
     "data": {
      "image/png": "[encoded data removed]",
      "text/plain": [
       "<Figure size 432x288 with 1 Axes>"
      ]
     },
     "metadata": {
      "needs_background": "light"
     },
     "output_type": "display_data"
    },
    {
     "data": {
      "image/png": "[encoded data removed]",
      "text/plain": [
       "<Figure size 432x288 with 1 Axes>"
      ]
     },
     "metadata": {
      "needs_background": "light"
     },
     "output_type": "display_data"
    },
    {
     "data": {
      "image/png": "[encoded data removed]",
      "text/plain": [
       "<Figure size 432x288 with 1 Axes>"
      ]
     },
     "metadata": {
      "needs_background": "light"
     },
     "output_type": "display_data"
    }
   ],
   "source": [
    "import matplotlib.pyplot as plt\n",
    "\n",
    "# Create scatter plot for HC emission\n",
    "plt.scatter(y_test_HC, y_pred_HC)\n",
    "plt.plot([0, max(y_test_HC)], [0, max(y_test_HC)], 'r--')\n",
    "plt.xlabel('Actual HC Emission (g)')\n",
    "plt.ylabel('Predicted HC Emission (g)')\n",
    "plt.title('HC Emission Prediction')\n",
    "plt.show()\n",
    "\n",
    "# Create scatter plot for CO emission\n",
    "plt.scatter(y_test_CO, y_pred_CO)\n",
    "plt.plot([0, max(y_test_CO)], [0, max(y_test_CO)], 'r--')\n",
    "plt.xlabel('Actual CO Emission (g)')\n",
    "plt.ylabel('Predicted CO Emission (g)')\n",
    "plt.title('CO Emission Prediction')\n",
    "plt.show()\n",
    "\n",
    "# Create scatter plot for NOx emission\n",
    "plt.scatter(y_test_NOx, y_pred_NOx)\n",
    "plt.plot([0, max(y_test_NOx)], [0, max(y_test_NOx)], 'r--')\n",
    "plt.xlabel('Actual NOx Emission (g)')\n",
    "plt.ylabel('Predicted NOx Emission (g)')\n",
    "plt.title('NOx Emission Prediction')\n",
    "plt.show()\n"
   ]
  },
  {
   "cell_type": "code",
   "execution_count": null,
   "metadata": {},
   "outputs": [
    {
     "data": {
      "image/png": "[encoded data removed]",
      "text/plain": [
       "<Figure size 1080x360 with 3 Axes>"
      ]
     },
     "metadata": {
      "needs_background": "light"
     },
     "output_type": "display_data"
    }
   ],
   "source": [
    "import matplotlib.pyplot as plt\n",
    "\n",
    "# Create figure and axes for subplots\n",
    "fig, axes = plt.subplots(1, 3, figsize=(15, 5))\n",
    "\n",
    "# Create scatter plot for HC emission\n",
    "axes[0].scatter(y_test_HC, y_pred_HC)\n",
    "axes[0].plot([0, max(y_test_HC)], [0, max(y_test_HC)], 'r--')\n",
    "axes[0].set_xlabel('Actual HC Emission (g)')\n",
    "axes[0].set_ylabel('Predicted HC Emission (g)')\n",
    "axes[0].set_title('SVM Model for HC Emissions')\n",
    "\n",
    "# Create scatter plot for CO emission\n",
    "axes[1].scatter(y_test_CO, y_pred_CO)\n",
    "axes[1].plot([0, max(y_test_CO)], [0, max(y_test_CO)], 'r--')\n",
    "axes[1].set_xlabel('Actual CO Emission (g)')\n",
    "axes[1].set_ylabel('Predicted CO Emission (g)')\n",
    "axes[1].set_title('SVM Model for CO Emissions')\n",
    "\n",
    "# Create scatter plot for NOx emission\n",
    "axes[2].scatter(y_test_NOx, y_pred_NOx)\n",
    "axes[2].plot([0, max(y_test_NOx)], [0, max(y_test_NOx)], 'r--')\n",
    "axes[2].set_xlabel('Actual NOx Emission (g)')\n",
    "axes[2].set_ylabel('Predicted NOx Emission (g)')\n",
    "axes[2].set_title('SVM Model for NOx Emissions')\n",
    "\n",
    "# Adjust layout and display plots\n",
    "fig.tight_layout()\n",
    "plt.show()\n"
   ]
  },
  {
   "cell_type": "code",
   "execution_count": null,
   "metadata": {},
   "outputs": [],
   "source": [
    "#for CO, do mean imputation and random forest model"
   ]
  }
 ],
 "metadata": {
  "kernelspec": {
   "display_name": "name_of_my_env",
   "language": "python",
   "name": "python3"
  },
  "language_info": {
   "codemirror_mode": {
    "name": "ipython",
    "version": 3
   },
   "file_extension": ".py",
   "mimetype": "text/x-python",
   "name": "python",
   "nbconvert_exporter": "python",
   "pygments_lexer": "ipython3",
   "version": "3.8.5"
  },
  "orig_nbformat": 4
 },
 "nbformat": 4,
 "nbformat_minor": 2
}
